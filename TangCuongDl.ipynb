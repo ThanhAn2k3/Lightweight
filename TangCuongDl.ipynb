{
 "cells": [
  {
   "cell_type": "code",
   "execution_count": 3,
   "id": "5c2bb1fb-eb6f-4841-b6f6-d7b5b00d1683",
   "metadata": {},
   "outputs": [
    {
     "name": "stdout",
     "output_type": "stream",
     "text": [
      "Downloading from https://www.kaggle.com/api/v1/datasets/download/mehradaria/leukemia?dataset_version_number=1...\n"
     ]
    },
    {
     "name": "stderr",
     "output_type": "stream",
     "text": [
      "100%|██████████| 110M/110M [00:06<00:00, 17.7MB/s] "
     ]
    },
    {
     "name": "stdout",
     "output_type": "stream",
     "text": [
      "Extracting files...\n"
     ]
    },
    {
     "name": "stderr",
     "output_type": "stream",
     "text": [
      "\n"
     ]
    },
    {
     "name": "stdout",
     "output_type": "stream",
     "text": [
      "Path to dataset files: C:\\Users\\ADMIN\\.cache\\kagglehub\\datasets\\mehradaria\\leukemia\\versions\\1\n"
     ]
    }
   ],
   "source": [
    "import kagglehub\n",
    "\n",
    "# Download latest version\n",
    "path = kagglehub.dataset_download(\"mehradaria/leukemia\")\n",
    "\n",
    "print(\"Path to dataset files:\", path)"
   ]
  },
  {
   "cell_type": "code",
   "execution_count": 2,
   "id": "6b10feb6-b15f-4d4f-b49a-3f25f60a2db6",
   "metadata": {},
   "outputs": [
    {
     "name": "stdout",
     "output_type": "stream",
     "text": [
      "Collecting kagglehub\n",
      "  Obtaining dependency information for kagglehub from https://files.pythonhosted.org/packages/c4/d1/4ab25019a168f5c414202f124d156e11ac79f07845d67288929311f1b1b2/kagglehub-0.3.3-py3-none-any.whl.metadata\n",
      "  Downloading kagglehub-0.3.3-py3-none-any.whl.metadata (22 kB)\n",
      "Requirement already satisfied: packaging in d:\\users\\admin\\anaconda3\\lib\\site-packages (from kagglehub) (23.2)\n",
      "Requirement already satisfied: requests in d:\\users\\admin\\anaconda3\\lib\\site-packages (from kagglehub) (2.31.0)\n",
      "Requirement already satisfied: tqdm in d:\\users\\admin\\anaconda3\\lib\\site-packages (from kagglehub) (4.65.0)\n",
      "Requirement already satisfied: charset-normalizer<4,>=2 in d:\\users\\admin\\anaconda3\\lib\\site-packages (from requests->kagglehub) (2.0.4)\n",
      "Requirement already satisfied: idna<4,>=2.5 in d:\\users\\admin\\anaconda3\\lib\\site-packages (from requests->kagglehub) (2.10)\n",
      "Requirement already satisfied: urllib3<3,>=1.21.1 in d:\\users\\admin\\anaconda3\\lib\\site-packages (from requests->kagglehub) (2.0.7)\n",
      "Requirement already satisfied: certifi>=2017.4.17 in d:\\users\\admin\\anaconda3\\lib\\site-packages (from requests->kagglehub) (2024.2.2)\n",
      "Requirement already satisfied: colorama in d:\\users\\admin\\anaconda3\\lib\\site-packages (from tqdm->kagglehub) (0.4.6)\n",
      "Downloading kagglehub-0.3.3-py3-none-any.whl (42 kB)\n",
      "   ---------------------------------------- 0.0/42.9 kB ? eta -:--:--\n",
      "   ---------------------------------------- 42.9/42.9 kB 2.2 MB/s eta 0:00:00\n",
      "Installing collected packages: kagglehub\n",
      "Successfully installed kagglehub-0.3.3\n"
     ]
    }
   ],
   "source": [
    "!pip install kagglehub"
   ]
  },
  {
   "cell_type": "code",
   "execution_count": null,
   "id": "ce74a889-1416-4e9e-90df-fb2d42e7447e",
   "metadata": {},
   "outputs": [],
   "source": [
    "\n",
    "from keras.preprocessing.image import ImageDataGenerator\n",
    "from skimage import io\n",
    "\n",
    "# Construct an instance of the ImageDataGenerator class\n",
    "# Pass the augmentation parameters through the constructor. \n",
    "\n",
    "datagen = ImageDataGenerator(\n",
    "        rotation_range=45,     #Random rotation between 0 and 45\n",
    "        width_shift_range=0.2,   #% shift\n",
    "        height_shift_range=0.2,\n",
    "        shear_range=0.2,\n",
    "        zoom_range=0.2,\n",
    "        horizontal_flip=True,\n",
    "        fill_mode='constant', cval=125)    #Also try nearest, constant, reflect, wrap\n",
    "\n",
    "\n",
    "######################################################################\n",
    "#Loading a single image for demonstration purposes.\n",
    "#Using flow method to augment the image\n",
    "\n",
    "# Loading a sample image  \n",
    "#Can use any library to read images but they need to be in an array form\n",
    "#If using keras load_img convert it to an array first\n",
    "# x = io.imread('monalisa_einstein/monalisa/monalisa.jpg')  #Array with shape (256, 256, 3)\n",
    "\n",
    "# Reshape the input image because ...\n",
    "#x: Input data to datagen.flow must be Numpy array of rank 4 or a tuple.\n",
    "#First element represents the number of images\n",
    "# x = x.reshape((1, ) + x.shape)  #Array with shape (1, 256, 256, 3)\n",
    "\n",
    "#i = 0\n",
    "#for batch in datagen.flow(x, batch_size=16,  \n",
    "#                          save_to_dir='augmented', \n",
    "#                          save_prefix='aug', \n",
    "#                          save_format='png'):\n",
    "#    i += 1\n",
    "#    if i > 20:\n",
    "#        break  # otherwise the generator would loop indefinitely  \n",
    "\n",
    "\n",
    "####################################################################\n",
    "#Multiple images.\n",
    "#Manually read each image and create an array to be supplied to datagen via flow method\n",
    "dataset = []\n",
    "\n",
    "import numpy as np\n",
    "from skimage import io\n",
    "import os\n",
    "from PIL import Image\n",
    "\n",
    "image_directory = 'test_folder/'\n",
    "SIZE = 128\n",
    "dataset = []\n",
    "\n",
    "my_images = os.listdir(image_directory)\n",
    "for i, image_name in enumerate(my_images):\n",
    "    if (image_name.split('.')[1] == 'jpg'):\n",
    "        image = io.imread(image_directory + image_name)\n",
    "        image = Image.fromarray(image, 'RGB')\n",
    "        image = image.resize((SIZE,SIZE))\n",
    "        dataset.append(np.array(image))\n",
    "\n",
    "x = np.array(dataset)\n",
    "\n",
    "#Let us save images to get a feel for the augmented images.\n",
    "#Create an iterator either by using image dataset in memory (using flow() function)\n",
    "#or by using image dataset from a directory (using flow_from_directory)\n",
    "#from directory can beuseful if subdirectories are organized by class\n",
    "   \n",
    "# Generating and saving 10 augmented samples  \n",
    "# using the above defined parameters.  \n",
    "#Again, flow generates batches of randomly augmented images\n",
    "\"\"\"   \n",
    "i = 0\n",
    "for batch in datagen.flow(x, batch_size=16,  \n",
    "                          save_to_dir='augmented', \n",
    "                          save_prefix='aug', \n",
    "                          save_format='png'):\n",
    "    i += 1\n",
    "    if i > 20:\n",
    "        break  # otherwise the generator would loop indefinitely  \n",
    "\"\"\"\n",
    "\n",
    "\n",
    "#####################################################################\n",
    "#Multiclass. Read dirctly from the folder structure using flow_from_directory\n",
    "\n",
    "i = 0\n",
    "for batch in datagen.flow_from_directory(directory='monalisa_einstein/', \n",
    "                                         batch_size=16,  \n",
    "                                         target_size=(256, 256),\n",
    "                                         color_mode=\"rgb\",\n",
    "                                         save_to_dir='augmented', \n",
    "                                         save_prefix='aug', \n",
    "                                         save_format='png'):\n",
    "    i += 1\n",
    "    if i > 31:\n",
    "        break \n",
    "\n",
    "#Creates 32 images for each class. \n",
    "        \n",
    "#Once data is augmented, you can use it to fit a model via: fit.generator\n",
    "#instead of fit()\n",
    "#model = \n",
    "#fit model on augmented data\n",
    "#model.fit_generator(datagen.flow(x))"
   ]
  },
  {
   "cell_type": "code",
   "execution_count": null,
   "id": "6e69896f-eb44-4688-82a1-b3bf78c04c8b",
   "metadata": {},
   "outputs": [],
   "source": [
    "import os\n",
    "from keras.preprocessing.image import ImageDataGenerator\n",
    "import numpy as np\n",
    "from skimage import io\n",
    "from PIL import Image\n",
    "\n",
    "# Thiết lập tham số cho ImageDataGenerator để thực hiện các tăng cường cần thiết\n",
    "datagen = ImageDataGenerator(\n",
    "    rotation_range=45,           # Xoay ngẫu nhiên từ 0 đến 45 độ\n",
    "    width_shift_range=0.2,       # Dịch chuyển ngang 20%\n",
    "    height_shift_range=0.2,      # Dịch chuyển dọc 20%\n",
    "    shear_range=0.2,             # Biến dạng 20%\n",
    "    zoom_range=0.2,              # Phóng to hoặc thu nhỏ 20%\n",
    "    horizontal_flip=True,        # Lật ngang\n",
    "    vertical_flip=True,          # Lật dọc\n",
    "    fill_mode='nearest'          # Lấp đầy khoảng trống bằng giá trị gần nhất\n",
    ")\n",
    "\n",
    "# Hàm thực hiện tăng cường ảnh và lưu vào thư mục, đảm bảo ảnh đầu ra là 224x224\n",
    "def tangCuongAnh(thuMucVao, thuMucRa, soLuongDauRa=5000):\n",
    "    if not os.path.exists(thuMucRa):\n",
    "        os.makedirs(thuMucRa)\n",
    "    \n",
    "    image_files = [f for f in os.listdir(thuMucVao) if f.endswith('.jpg') or f.endswith('.png')]\n",
    "\n",
    "    # Tính số ảnh cần tạo từ mỗi ảnh gốc\n",
    "    soAnhCanTao = soLuongDauRa // len(image_files)\n",
    "    \n",
    "    for image_file in image_files:\n",
    "        img_path = os.path.join(thuMucVao, image_file)\n",
    "        img = io.imread(img_path)\n",
    "        \n",
    "        # Đảm bảo ảnh có kích thước 224x224\n",
    "        img = Image.fromarray(img)\n",
    "        img = img.resize((224, 224))\n",
    "        img = np.array(img)\n",
    "        \n",
    "        # Reshape ảnh thành định dạng mà ImageDataGenerator yêu cầu\n",
    "        img = img.reshape((1,) + img.shape)\n",
    "        \n",
    "        # Tăng cường dữ liệu\n",
    "        i = 0\n",
    "        for batch in datagen.flow(img, batch_size=1, luuAnhRa=thuMucRa,\n",
    "                                  save_prefix='aug', save_format='png'):\n",
    "            i += 1\n",
    "            if i >= soAnhCanTao:\n",
    "                break\n",
    "\n",
    "# Thư mục đầu vào và đầu ra\n",
    "ThuMucDauVao = 'D:\\AnacondaPython\\NCKH\\TangCuongDuLieu\\Original'  # Thư mục gốc chứa các thư mục con cho từng giai đoạn\n",
    "ThuMucDauRa = 'D:\\AnacondaPython\\NCKH\\TangCuongDuLieu\\NotOrigina'  # Thư mục lưu ảnh tăng cường\n",
    "\n",
    "# Danh sách các thư mục con cần tăng cường ảnh\n",
    "TepCon = ['Benign', 'Early', 'Pre', 'Pro']\n",
    "\n",
    "# Tăng cường ảnh cho từng giai đoạn bệnh\n",
    "#augment_images(os.path.join(base_input_dir, 'tien_benh'), os.path.join(output_base_dir, 'tien_benh_aug'), 1500)\n",
    "#augment_images(os.path.join(base_input_dir, 'giua_benh'), os.path.join(output_base_dir, 'giua_benh_aug'), 2000)\n",
    "#augment_images(os.path.join(base_input_dir, 'hau_benh'), os.path.join(output_base_dir, 'hau_benh_aug'), 1900)\n",
    "#augment_images(os.path.join(base_input_dir, 'benh_nang'), os.path.join(output_base_dir, 'benh_nang_aug'), 1600)\n",
    "\n",
    "\n",
    "# Tăng cường ảnh cho từng thư mục trong Original và lưu vào thư mục tương ứng trong Augmented\n",
    "for sub_dir in sub_dirs:\n",
    "    input_path = os.path.join(ThuMucDauVao, TepCon)\n",
    "    output_path = os.path.join(ThuMucDauRa, f\"{TepCon}_aug\")\n",
    "    augment_images(input_path, output_path, 5000)\n",
    "\n",
    "\n",
    "print(\"Hoàn thành tăng cường dữ liệu cho các giai đoạn bệnh.\")\n"
   ]
  },
  {
   "cell_type": "code",
   "execution_count": null,
   "id": "d8203aca-8693-4544-85c4-a20750994e51",
   "metadata": {},
   "outputs": [],
   "source": [
    "import os\n",
    "import numpy as np\n",
    "from skimage import io\n",
    "from PIL import Image, ImageEnhance, ImageFilter\n",
    "import random\n",
    "from keras.preprocessing.image import ImageDataGenerator\n",
    "\n",
    "# Thiết lập ImageDataGenerator cho các biến đổi cơ bản\n",
    "datagen = ImageDataGenerator(\n",
    "    rotation_range=45,          # Xoay ngẫu nhiên từ 0 đến 45 độ\n",
    "    width_shift_range=0.2,      # Dịch chuyển chiều rộng 20%\n",
    "    height_shift_range=0.2,     # Dịch chuyển chiều cao 20%\n",
    "    shear_range=0.2,            # Biến dạng với tỷ lệ 20%\n",
    "    zoom_range=0.2,             # Phóng to hoặc thu nhỏ với tỷ lệ 20%\n",
    "    horizontal_flip=True,       # Lật ngang\n",
    "    vertical_flip=True,         # Lật dọc\n",
    "    fill_mode='nearest'         # Lấp đầy khoảng trống bằng giá trị gần nhất\n",
    ")\n",
    "\n",
    "# Các hàm hỗ trợ cho các kỹ thuật tăng cường khác\n",
    "def random_crop(image, size=(224, 224)):\n",
    "    # Cắt ngẫu nhiên ảnh về kích thước xác định\n",
    "    width, height = image.size\n",
    "    new_width, new_height = size\n",
    "    left = random.randint(0, width - new_width)  # Vị trí cắt ngẫu nhiên theo chiều ngang\n",
    "    top = random.randint(0, height - new_height)  # Vị trí cắt ngẫu nhiên theo chiều dọc\n",
    "    return image.crop((left, top, left + new_width, top + new_height))\n",
    "\n",
    "def adjust_brightness(image):\n",
    "    # Điều chỉnh độ sáng của ảnh\n",
    "    enhancer = ImageEnhance.Brightness(image)\n",
    "    return enhancer.enhance(random.uniform(0.5, 1.5))  # Tăng giảm độ sáng ngẫu nhiên\n",
    "\n",
    "def adjust_contrast(image):\n",
    "    # Điều chỉnh độ tương phản của ảnh\n",
    "    enhancer = ImageEnhance.Contrast(image)\n",
    "    return enhancer.enhance(random.uniform(0.5, 1.5))  # Tăng giảm độ tương phản ngẫu nhiên\n",
    "\n",
    "def adjust_saturation(image):\n",
    "    # Điều chỉnh độ bão hòa màu của ảnh\n",
    "    enhancer = ImageEnhance.Color(image)\n",
    "    return enhancer.enhance(random.uniform(0.5, 1.5))  # Tăng giảm độ bão hòa ngẫu nhiên\n",
    "\n",
    "def adjust_hue(image):\n",
    "    # Điều chỉnh sắc thái của ảnh\n",
    "    np_image = np.array(image.convert('HSV'))  # Chuyển đổi ảnh sang không gian màu HSV\n",
    "    np_image[:, :, 0] = np_image[:, :, 0] + random.randint(-10, 10)  # Thay đổi sắc thái ngẫu nhiên\n",
    "    return Image.fromarray(np_image, 'HSV').convert('RGB')  # Chuyển đổi lại về RGB\n",
    "\n",
    "def add_noise(image):\n",
    "    # Thêm nhiễu vào ảnh\n",
    "    np_image = np.array(image)\n",
    "    noise = np.random.normal(0, 25, np_image.shape)  # Tạo nhiễu ngẫu nhiên\n",
    "    np_image = np.clip(np_image + noise, 0, 255).astype(np.uint8)  # Thêm nhiễu và đảm bảo giá trị trong khoảng [0, 255]\n",
    "    return Image.fromarray(np_image)\n",
    "\n",
    "def blur_image(image):\n",
    "    # Làm mờ ảnh bằng bộ lọc Gaussian\n",
    "    return image.filter(ImageFilter.GaussianBlur(radius=random.uniform(0.5, 2.0)))  # Bán kính mờ ngẫu nhiên\n",
    "\n",
    "def adjust_sharpness(image):\n",
    "    # Điều chỉnh độ sắc nét của ảnh\n",
    "    enhancer = ImageEnhance.Sharpness(image)\n",
    "    return enhancer.enhance(random.uniform(0.5, 2.0))  # Tăng giảm độ sắc nét ngẫu nhiên\n",
    "\n",
    "def grayscale(image):\n",
    "    # Chuyển đổi ảnh sang đen trắng\n",
    "    return image.convert('L').convert('RGB')  # Chuyển đổi sang L (đen trắng) và quay lại RGB\n",
    "\n",
    "def cutout(image, num_patches=1, patch_size=32):\n",
    "    # Cắt các vùng nhỏ ngẫu nhiên khỏi ảnh\n",
    "    np_image = np.array(image)\n",
    "    for _ in range(num_patches):\n",
    "        x = random.randint(0, np_image.shape[1] - patch_size)  # Vị trí ngẫu nhiên theo chiều ngang\n",
    "        y = random.randint(0, np_image.shape[0] - patch_size)  # Vị trí ngẫu nhiên theo chiều dọc\n",
    "        np_image[y:y+patch_size, x:x+patch_size] = 0  # Cắt vùng\n",
    "    return Image.fromarray(np_image)\n",
    "\n",
    "def elastic_deformation(image):\n",
    "    # Placeholder cho hàm biến dạng đàn hồi (cần thư viện bổ sung như elasticdeform)\n",
    "    return image  # Tạm thời trả về ảnh gốc\n",
    "\n",
    "# Hàm để tăng cường ảnh\n",
    "def augment_image(img):\n",
    "    augmented_images = []\n",
    "    \n",
    "    # Các biến đổi cơ bản\n",
    "    augmented_images.append(datagen.random_transform(img))  # Tăng cường bằng ImageDataGenerator\n",
    "    \n",
    "    # Các kỹ thuật khác\n",
    "    pil_img = Image.fromarray(img)  # Chuyển đổi mảng numpy về định dạng ảnh PIL\n",
    "    augmented_images.append(np.array(random_crop(pil_img)))  # Cắt ngẫu nhiên\n",
    "    augmented_images.append(np.array(adjust_brightness(pil_img)))  # Điều chỉnh độ sáng\n",
    "    augmented_images.append(np.array(adjust_contrast(pil_img)))  # Điều chỉnh độ tương phản\n",
    "    augmented_images.append(np.array(adjust_saturation(pil_img)))  # Điều chỉnh độ bão hòa\n",
    "    augmented_images.append(np.array(adjust_hue(pil_img)))  # Điều chỉnh sắc thái\n",
    "    augmented_images.append(np.array(add_noise(pil_img)))  # Thêm nhiễu\n",
    "    augmented_images.append(np.array(blur_image(pil_img)))  # Làm mờ ảnh\n",
    "    augmented_images.append(np.array(adjust_sharpness(pil_img)))  # Điều chỉnh độ sắc nét\n",
    "    augmented_images.append(np.array(grayscale(pil_img)))  # Chuyển đổi sang đen trắng\n",
    "    augmented_images.append(np.array(cutout(pil_img)))  # Cắt các vùng ngẫu nhiên\n",
    "    augmented_images.append(np.array(elastic_deformation(pil_img)))  # Biến dạng đàn hồi\n",
    "    \n",
    "    return augmented_images  # Trả về danh sách các ảnh đã được tăng cường\n",
    "\n",
    "# Hàm thực hiện tăng cường và lưu ảnh đầu ra\n",
    "def tangCuongAnh(thuMucVao, thuMucRa, soLuongDauRa=5000):\n",
    "    # Tạo thư mục đầu ra nếu chưa tồn tại\n",
    "    if not os.path.exists(thuMucRa):\n",
    "        os.makedirs(thuMucRa)\n",
    "    \n",
    "    # Lấy danh sách các file ảnh trong thư mục đầu vào\n",
    "    image_files = [f for f in os.listdir(thuMucVao) if f.endswith('.jpg') or f.endswith('.png')]\n",
    "    soAnhCanTao = soLuongDauRa // len(image_files)  # Tính số ảnh cần tạo từ mỗi ảnh gốc\n",
    "    \n",
    "    for image_file in image_files:\n",
    "        img_path = os.path.join(thuMucVao, image_file)  # Đường dẫn đến ảnh gốc\n",
    "        img = io.imread(img_path)  # Đọc ảnh\n",
    "        img = np.array(Image.fromarray(img).resize((224, 224)))  # Đảm bảo ảnh kích thước 224x224\n",
    "        \n",
    "        # Tạo ảnh tăng cường\n",
    "        i = 0\n",
    "        while i < soAnhCanTao:\n",
    "            augmented_images = augment_image(img)  # Gọi hàm tăng cường\n",
    "            for aug_img in augmented_images:  # Duyệt qua từng ảnh đã tăng cường\n",
    "                if i >= soAnhCanTao:\n",
    "                    break\n",
    "                aug_img_pil = Image.fromarray(aug_img)  # Chuyển đổi mảng numpy về định dạng ảnh PIL\n",
    "                # Lưu ảnh tăng cường vào thư mục đầu ra\n",
    "                aug_img_pil.save(os.path.join(thuMucRa, f\"{image_file.split('.')[0]}_aug_{i}.png\"))\n",
    "                i += 1\n",
    "\n",
    "# Thư mục đầu vào và đầu ra\n",
    "ThuMucDauVao = 'D:/AnacondaPython/NCKH/TangCuongDuLieu/Original'  # Thư mục chứa ảnh gốc\n",
    "ThuMucDauRa = 'D:/AnacondaPython/NCKH/TangCuongDuLieu/Augmented'  # Thư mục lưu ảnh tăng cường\n",
    "TepCon = ['Benign', 'Early', 'Pre', 'Pro']  # Các thư mục con trong thư mục gốc\n",
    "\n",
    "# Thực hiện tăng cường cho từng thư mục con\n",
    "for sub_dir in TepCon:\n",
    "    input_path = os.path.join(ThuMucDauVao, sub_dir)  # Đường dẫn thư mục đầu vào\n",
    "    output_path = os.path.join(ThuMucDauRa, f\"{sub_dir}_aug\")  # Đường dẫn thư mục đầu ra\n",
    "    tangCuongAnh(input_path, output_path, 5000)  # Gọi hàm tăng cường\n",
    "\n",
    "print(\"Hoàn thành tăng cường dữ liệu cho các giai đoạn bệnh.\")\n"
   ]
  },
  {
   "cell_type": "code",
   "execution_count": 5,
   "id": "08c9f5e0-766d-464a-a095-2ab6010dfb9e",
   "metadata": {},
   "outputs": [
    {
     "name": "stdout",
     "output_type": "stream",
     "text": [
      "3.3.3\n"
     ]
    }
   ],
   "source": [
    "import keras\n",
    "print(keras.__version__)\n"
   ]
  },
  {
   "cell_type": "code",
   "execution_count": 6,
   "id": "333f8034-d9c8-4163-889e-cef75a7c83fb",
   "metadata": {},
   "outputs": [],
   "source": [
    "import os\n",
    "import numpy as np\n",
    "from skimage import io\n",
    "from PIL import Image, ImageEnhance, ImageFilter\n",
    "import random\n",
    "from tensorflow.keras.preprocessing.image import ImageDataGenerator"
   ]
  },
  {
   "cell_type": "code",
   "execution_count": 7,
   "id": "578598d3-e854-4c46-b779-a8dc7d1d6820",
   "metadata": {},
   "outputs": [],
   "source": [
    "\n",
    "# Thiết lập ImageDataGenerator cho các biến đổi cơ bản\n",
    "datagen = ImageDataGenerator(\n",
    "    rotation_range=45,          # Xoay ngẫu nhiên từ 0 đến 45 độ\n",
    "    width_shift_range=0.2,      # Dịch chuyển chiều rộng 20%\n",
    "    height_shift_range=0.2,     # Dịch chuyển chiều cao 20%\n",
    "    shear_range=0.2,            # Biến dạng với tỷ lệ 20%\n",
    "    zoom_range=0.2,             # Phóng to hoặc thu nhỏ với tỷ lệ 20%\n",
    "    horizontal_flip=True,       # Lật ngang\n",
    "    vertical_flip=True,         # Lật dọc\n",
    "    fill_mode='nearest'         # Lấp đầy khoảng trống bằng giá trị gần nhất\n",
    ")"
   ]
  },
  {
   "cell_type": "code",
   "execution_count": 8,
   "id": "8541f886-78ef-4c72-994d-577315518d48",
   "metadata": {},
   "outputs": [],
   "source": [
    "# Các hàm hỗ trợ cho các kỹ thuật tăng cường khác\n",
    "def random_crop(image, size=(224, 224)):\n",
    "    # Cắt ngẫu nhiên ảnh về kích thước xác định\n",
    "    width, height = image.size\n",
    "    new_width, new_height = size\n",
    "    left = random.randint(0, width - new_width)  # Vị trí cắt ngẫu nhiên theo chiều ngang\n",
    "    top = random.randint(0, height - new_height)  # Vị trí cắt ngẫu nhiên theo chiều dọc\n",
    "    return image.crop((left, top, left + new_width, top + new_height))\n"
   ]
  },
  {
   "cell_type": "code",
   "execution_count": 9,
   "id": "54995221-0e77-4463-80be-3e8000c9ff03",
   "metadata": {},
   "outputs": [],
   "source": [
    "def adjust_brightness(image):\n",
    "    # Điều chỉnh độ sáng của ảnh\n",
    "    enhancer = ImageEnhance.Brightness(image)\n",
    "    return enhancer.enhance(random.uniform(0.5, 1.5))  # Tăng giảm độ sáng ngẫu nhiên\n"
   ]
  },
  {
   "cell_type": "code",
   "execution_count": 10,
   "id": "cf5ac779-438d-452a-937a-390c5041fd28",
   "metadata": {},
   "outputs": [],
   "source": [
    "def adjust_contrast(image):\n",
    "    # Điều chỉnh độ tương phản của ảnh\n",
    "    enhancer = ImageEnhance.Contrast(image)\n",
    "    return enhancer.enhance(random.uniform(0.5, 1.5))  # Tăng giảm độ tương phản ngẫu nhiên\n"
   ]
  },
  {
   "cell_type": "code",
   "execution_count": 11,
   "id": "5071b07b-899d-4234-a31b-0c410278c10e",
   "metadata": {},
   "outputs": [],
   "source": [
    "def adjust_saturation(image):\n",
    "    # Điều chỉnh độ bão hòa màu của ảnh\n",
    "    enhancer = ImageEnhance.Color(image)\n",
    "    return enhancer.enhance(random.uniform(0.5, 1.5))  # Tăng giảm độ bão hòa ngẫu nhiên\n"
   ]
  },
  {
   "cell_type": "code",
   "execution_count": 12,
   "id": "d72d70ff-1590-48ee-b6ca-a0ff01ac5209",
   "metadata": {},
   "outputs": [],
   "source": [
    "def adjust_hue(image):\n",
    "    # Điều chỉnh sắc thái của ảnh\n",
    "    np_image = np.array(image.convert('HSV'))  # Chuyển đổi ảnh sang không gian màu HSV\n",
    "    np_image[:, :, 0] = np_image[:, :, 0] + random.randint(-10, 10)  # Thay đổi sắc thái ngẫu nhiên\n",
    "    return Image.fromarray(np_image, 'HSV').convert('RGB')  # Chuyển đổi lại về RGB"
   ]
  },
  {
   "cell_type": "code",
   "execution_count": 13,
   "id": "380bd5a6-89fe-4eb7-8bb7-019c31af60d2",
   "metadata": {},
   "outputs": [],
   "source": [
    "def add_noise(image):\n",
    "    # Thêm nhiễu vào ảnh\n",
    "    np_image = np.array(image)\n",
    "    noise = np.random.normal(0, 25, np_image.shape)  # Tạo nhiễu ngẫu nhiên\n",
    "    np_image = np.clip(np_image + noise, 0, 255).astype(np.uint8)  # Thêm nhiễu và đảm bảo giá trị trong khoảng [0, 255]\n",
    "    return Image.fromarray(np_image)\n"
   ]
  },
  {
   "cell_type": "code",
   "execution_count": 14,
   "id": "175d2269-e4bf-46e2-a181-0c58146b4abf",
   "metadata": {},
   "outputs": [],
   "source": [
    "def blur_image(image):\n",
    "    # Làm mờ ảnh bằng bộ lọc Gaussian\n",
    "    return image.filter(ImageFilter.GaussianBlur(radius=random.uniform(0.5, 2.0)))  # Bán kính mờ ngẫu nhiên\n"
   ]
  },
  {
   "cell_type": "code",
   "execution_count": 15,
   "id": "20322070-ae2f-4836-9564-7ee92d517a50",
   "metadata": {},
   "outputs": [],
   "source": [
    "def adjust_sharpness(image):\n",
    "    # Điều chỉnh độ sắc nét của ảnh\n",
    "    enhancer = ImageEnhance.Sharpness(image)\n",
    "    return enhancer.enhance(random.uniform(0.5, 2.0))  # Tăng giảm độ sắc nét ngẫu nhiên\n"
   ]
  },
  {
   "cell_type": "code",
   "execution_count": 16,
   "id": "f3ee56d8-3fe5-4132-96d1-6e7cdff39eb1",
   "metadata": {},
   "outputs": [],
   "source": [
    "def grayscale(image):\n",
    "    # Chuyển đổi ảnh sang đen trắng\n",
    "    return image.convert('L').convert('RGB')  # Chuyển đổi sang L (đen trắng) và quay lại RGB\n"
   ]
  },
  {
   "cell_type": "code",
   "execution_count": 17,
   "id": "05f096fd-5e22-4647-a9ee-2248ac92ef3c",
   "metadata": {},
   "outputs": [],
   "source": [
    "def cutout(image, num_patches=1, patch_size=32):\n",
    "    # Cắt các vùng nhỏ ngẫu nhiên khỏi ảnh\n",
    "    np_image = np.array(image)\n",
    "    for _ in range(num_patches):\n",
    "        x = random.randint(0, np_image.shape[1] - patch_size)  # Vị trí ngẫu nhiên theo chiều ngang\n",
    "        y = random.randint(0, np_image.shape[0] - patch_size)  # Vị trí ngẫu nhiên theo chiều dọc\n",
    "        np_image[y:y+patch_size, x:x+patch_size] = 0  # Cắt vùng\n",
    "    return Image.fromarray(np_image)"
   ]
  },
  {
   "cell_type": "code",
   "execution_count": 18,
   "id": "835dcc64-266e-48f6-936e-ffd210c4789b",
   "metadata": {},
   "outputs": [],
   "source": [
    "def elastic_deformation(image):\n",
    "    # Placeholder cho hàm biến dạng đàn hồi (cần thư viện bổ sung như elasticdeform)\n",
    "    return image  # Tạm thời trả về ảnh gốc"
   ]
  },
  {
   "cell_type": "code",
   "execution_count": 19,
   "id": "8cc2aa4f-e205-4cba-81c7-e69f43b227bd",
   "metadata": {},
   "outputs": [],
   "source": [
    "# Hàm để tăng cường ảnh\n",
    "def augment_image(img):\n",
    "    augmented_images = []\n",
    "    \n",
    "    # Các biến đổi cơ bản\n",
    "    augmented_images.append(datagen.random_transform(img))  # Tăng cường bằng ImageDataGenerator\n",
    "    \n",
    "    # Các kỹ thuật khác\n",
    "    pil_img = Image.fromarray(img)  # Chuyển đổi mảng numpy về định dạng ảnh PIL\n",
    "    augmented_images.append(np.array(random_crop(pil_img)))  # Cắt ngẫu nhiên\n",
    "    augmented_images.append(np.array(adjust_brightness(pil_img)))  # Điều chỉnh độ sáng\n",
    "    augmented_images.append(np.array(adjust_contrast(pil_img)))  # Điều chỉnh độ tương phản\n",
    "    augmented_images.append(np.array(adjust_saturation(pil_img)))  # Điều chỉnh độ bão hòa\n",
    "    augmented_images.append(np.array(adjust_hue(pil_img)))  # Điều chỉnh sắc thái\n",
    "    augmented_images.append(np.array(add_noise(pil_img)))  # Thêm nhiễu\n",
    "    augmented_images.append(np.array(blur_image(pil_img)))  # Làm mờ ảnh\n",
    "    augmented_images.append(np.array(adjust_sharpness(pil_img)))  # Điều chỉnh độ sắc nét\n",
    "    augmented_images.append(np.array(grayscale(pil_img)))  # Chuyển đổi sang đen trắng\n",
    "    augmented_images.append(np.array(cutout(pil_img)))  # Cắt các vùng ngẫu nhiên\n",
    "    augmented_images.append(np.array(elastic_deformation(pil_img)))  # Biến dạng đàn hồi\n",
    "    \n",
    "    return augmented_images  # Trả về danh sách các ảnh đã được tăng cường"
   ]
  },
  {
   "cell_type": "code",
   "execution_count": 20,
   "id": "31d7bdcd-9bba-48ba-9587-f98f4512880a",
   "metadata": {},
   "outputs": [],
   "source": [
    "# Hàm thực hiện tăng cường và lưu ảnh đầu ra\n",
    "def tangCuongAnh(thuMucVao, thuMucRa, soLuongDauRa=5000):\n",
    "    # Tạo thư mục đầu ra nếu chưa tồn tại\n",
    "    if not os.path.exists(thuMucRa):\n",
    "        os.makedirs(thuMucRa)\n",
    "    \n",
    "    # Lấy danh sách các file ảnh trong thư mục đầu vào\n",
    "    image_files = [f for f in os.listdir(thuMucVao) if f.endswith('.jpg') or f.endswith('.png')]\n",
    "    soAnhCanTao = soLuongDauRa // len(image_files)  # Tính số ảnh cần tạo từ mỗi ảnh gốc\n",
    "    \n",
    "    for image_file in image_files:\n",
    "        img_path = os.path.join(thuMucVao, image_file)  # Đường dẫn đến ảnh gốc\n",
    "        img = io.imread(img_path)  # Đọc ảnh\n",
    "        img = np.array(Image.fromarray(img).resize((224, 224)))  # Đảm bảo ảnh kích thước 224x224\n",
    "        \n",
    "        # Tạo ảnh tăng cường\n",
    "        i = 0\n",
    "        while i < soAnhCanTao:\n",
    "            augmented_images = augment_image(img)  # Gọi hàm tăng cường\n",
    "            for aug_img in augmented_images:  # Duyệt qua từng ảnh đã tăng cường\n",
    "                if i >= soAnhCanTao:\n",
    "                    break\n",
    "                aug_img_pil = Image.fromarray(aug_img)  # Chuyển đổi mảng numpy về định dạng ảnh PIL\n",
    "                # Lưu ảnh tăng cường vào thư mục đầu ra\n",
    "                aug_img_pil.save(os.path.join(thuMucRa, f\"{image_file.split('.')[0]}_aug_{i}.png\"))\n",
    "                i += 1\n"
   ]
  },
  {
   "cell_type": "code",
   "execution_count": 21,
   "id": "d6890401-9d43-4726-a724-c71ba14e8ed8",
   "metadata": {},
   "outputs": [],
   "source": [
    "# Thư mục đầu vào và đầu ra\n",
    "ThuMucDauVao = 'D:/AnacondaPython/NCKH/TangCuongDuLieu/Original'  # Thư mục chứa ảnh gốc\n",
    "ThuMucDauRa = 'D:/AnacondaPython/NCKH/TangCuongDuLieu/Augmented'  # Thư mục lưu ảnh tăng cường\n",
    "TepCon = ['Benign', 'Early', 'Pre', 'Pro']  # Các thư mục con trong thư mục gốc"
   ]
  },
  {
   "cell_type": "code",
   "execution_count": 22,
   "id": "105d39e0-a7b5-470d-9073-708956cb4d02",
   "metadata": {},
   "outputs": [],
   "source": [
    "\n",
    "# Thực hiện tăng cường cho từng thư mục con\n",
    "for sub_dir in TepCon:\n",
    "    input_path = os.path.join(ThuMucDauVao, sub_dir)  # Đường dẫn thư mục đầu vào\n",
    "    output_path = os.path.join(ThuMucDauRa, f\"{sub_dir}_aug\")  # Đường dẫn thư mục đầu ra\n",
    "    tangCuongAnh(input_path, output_path, 5000)  # Gọi hàm tăng cường"
   ]
  },
  {
   "cell_type": "code",
   "execution_count": 23,
   "id": "fce38fa4-ed38-48d3-8c2d-76717421bc2d",
   "metadata": {},
   "outputs": [
    {
     "name": "stdout",
     "output_type": "stream",
     "text": [
      "Hoàn thành tăng cường dữ liệu cho các giai đoạn bệnh.\n"
     ]
    }
   ],
   "source": [
    "print(\"Hoàn thành tăng cường dữ liệu cho các giai đoạn bệnh.\")"
   ]
  },
  {
   "cell_type": "code",
   "execution_count": null,
   "id": "9a9cbef7-0846-4970-bc78-1a968953f7b2",
   "metadata": {},
   "outputs": [],
   "source": []
  },
  {
   "cell_type": "code",
   "execution_count": null,
   "id": "bb6a6448-2b80-41e7-97bb-02e674151072",
   "metadata": {},
   "outputs": [],
   "source": []
  },
  {
   "cell_type": "code",
   "execution_count": null,
   "id": "19f7d29b-c02d-4cfa-9e9c-94acaa9f2929",
   "metadata": {},
   "outputs": [],
   "source": []
  },
  {
   "cell_type": "code",
   "execution_count": 24,
   "id": "e06af69e-9d9e-4dc7-a008-75d1d11b2ce9",
   "metadata": {},
   "outputs": [],
   "source": [
    "import os\n",
    "import numpy as np\n",
    "from skimage import io\n",
    "from PIL import Image, ImageEnhance, ImageFilter\n",
    "import random\n",
    "from tensorflow.keras.preprocessing.image import ImageDataGenerator  # Sử dụng TensorFlow Keras\n"
   ]
  },
  {
   "cell_type": "code",
   "execution_count": 25,
   "id": "dfdd9347-ea70-476f-aed6-804e66f3ac85",
   "metadata": {},
   "outputs": [],
   "source": [
    "# Thiết lập ImageDataGenerator cho các biến đổi cơ bản\n",
    "datagen = ImageDataGenerator(\n",
    "    rotation_range=45,\n",
    "    width_shift_range=0.2,\n",
    "    height_shift_range=0.2,\n",
    "    shear_range=0.2,\n",
    "    zoom_range=0.2,\n",
    "    horizontal_flip=True,\n",
    "    vertical_flip=True,\n",
    "    fill_mode='nearest'\n",
    ")"
   ]
  },
  {
   "cell_type": "code",
   "execution_count": 26,
   "id": "2de2c27e-759b-473e-b432-c7ecb377ae0b",
   "metadata": {},
   "outputs": [],
   "source": [
    "# Các hàm hỗ trợ cho các kỹ thuật tăng cường khác\n",
    "def random_crop(image, size=(224, 224)):\n",
    "    width, height = image.size\n",
    "    new_width, new_height = size\n",
    "    left = random.randint(0, width - new_width)\n",
    "    top = random.randint(0, height - new_height)\n",
    "    return image.crop((left, top, left + new_width, top + new_height))"
   ]
  },
  {
   "cell_type": "code",
   "execution_count": 27,
   "id": "3f786b23-6007-4d67-85b0-88e97e7c1bd4",
   "metadata": {},
   "outputs": [],
   "source": [
    "def adjust_brightness(image):\n",
    "    enhancer = ImageEnhance.Brightness(image)\n",
    "    return enhancer.enhance(random.uniform(0.5, 1.5))"
   ]
  },
  {
   "cell_type": "code",
   "execution_count": 28,
   "id": "d2274ee9-8d87-4a44-bc04-4b5bf184f2f3",
   "metadata": {},
   "outputs": [],
   "source": [
    "\n",
    "def adjust_contrast(image):\n",
    "    enhancer = ImageEnhance.Contrast(image)\n",
    "    return enhancer.enhance(random.uniform(0.5, 1.5))"
   ]
  },
  {
   "cell_type": "code",
   "execution_count": 29,
   "id": "4c69b6e2-cf2a-4102-9fa4-72ae86d82388",
   "metadata": {},
   "outputs": [],
   "source": [
    "def adjust_saturation(image):\n",
    "    enhancer = ImageEnhance.Color(image)\n",
    "    return enhancer.enhance(random.uniform(0.5, 1.5))"
   ]
  },
  {
   "cell_type": "code",
   "execution_count": 30,
   "id": "4ea68350-bf60-4e82-9584-34ad06949eed",
   "metadata": {},
   "outputs": [],
   "source": [
    "def adjust_hue(image):\n",
    "    np_image = np.array(image.convert('HSV'))\n",
    "    np_image[:, :, 0] = np_image[:, :, 0] + random.randint(-10, 10)\n",
    "    return Image.fromarray(np_image, 'HSV').convert('RGB')"
   ]
  },
  {
   "cell_type": "code",
   "execution_count": 31,
   "id": "dea5e184-4b1e-4191-982b-6168e07a4036",
   "metadata": {},
   "outputs": [],
   "source": [
    "def add_noise(image):\n",
    "    np_image = np.array(image)\n",
    "    noise = np.random.normal(0, 25, np_image.shape)\n",
    "    np_image = np.clip(np_image + noise, 0, 255).astype(np.uint8)\n",
    "    return Image.fromarray(np_image)"
   ]
  },
  {
   "cell_type": "code",
   "execution_count": 32,
   "id": "6114a3f2-1b43-42d8-b99d-ec4ff983f0fa",
   "metadata": {},
   "outputs": [],
   "source": [
    "def blur_image(image):\n",
    "    return image.filter(ImageFilter.GaussianBlur(radius=random.uniform(0.5, 2.0)))\n"
   ]
  },
  {
   "cell_type": "code",
   "execution_count": 33,
   "id": "d4cf25d9-8311-4fa6-b1bb-8dcf92b51626",
   "metadata": {},
   "outputs": [],
   "source": [
    "def adjust_sharpness(image):\n",
    "    enhancer = ImageEnhance.Sharpness(image)\n",
    "    return enhancer.enhance(random.uniform(0.5, 2.0))"
   ]
  },
  {
   "cell_type": "code",
   "execution_count": 34,
   "id": "0826b47a-104e-4a01-98e4-f1d9a90c020c",
   "metadata": {},
   "outputs": [],
   "source": [
    "def grayscale(image):\n",
    "    return image.convert('L').convert('RGB')"
   ]
  },
  {
   "cell_type": "code",
   "execution_count": 35,
   "id": "e66194f0-3cc0-4327-956e-949c1cd75c41",
   "metadata": {},
   "outputs": [],
   "source": [
    "def cutout(image, num_patches=1, patch_size=32):\n",
    "    np_image = np.array(image)\n",
    "    for _ in range(num_patches):\n",
    "        x = random.randint(0, np_image.shape[1] - patch_size)\n",
    "        y = random.randint(0, np_image.shape[0] - patch_size)\n",
    "        np_image[y:y+patch_size, x:x+patch_size] = 0\n",
    "    return Image.fromarray(np_image)"
   ]
  },
  {
   "cell_type": "code",
   "execution_count": 36,
   "id": "15e00f69-1231-444c-8b0c-ab703b6b9b3b",
   "metadata": {},
   "outputs": [],
   "source": [
    "\n",
    "def elastic_deformation(image):\n",
    "    return image  # Placeholder cho biến dạng đàn hồi"
   ]
  },
  {
   "cell_type": "code",
   "execution_count": 37,
   "id": "779be894-800a-4fa9-9630-5e79fa94f7d0",
   "metadata": {},
   "outputs": [],
   "source": [
    "# Hàm để tăng cường ảnh\n",
    "def augment_image(img):\n",
    "    augmented_images = []\n",
    "    \n",
    "    # Các biến đổi cơ bản\n",
    "    augmented_images.append(datagen.random_transform(img))  # Tăng cường bằng ImageDataGenerator\n",
    "    \n",
    "    # Các kỹ thuật khác\n",
    "    pil_img = Image.fromarray(img)\n",
    "    augmented_images.append(np.array(random_crop(pil_img)))  # Cắt ngẫu nhiên\n",
    "    augmented_images.append(np.array(adjust_brightness(pil_img)))  # Điều chỉnh độ sáng\n",
    "    augmented_images.append(np.array(adjust_contrast(pil_img)))  # Điều chỉnh độ tương phản\n",
    "    augmented_images.append(np.array(adjust_saturation(pil_img)))  # Điều chỉnh độ bão hòa\n",
    "    augmented_images.append(np.array(adjust_hue(pil_img)))  # Điều chỉnh sắc thái\n",
    "    augmented_images.append(np.array(add_noise(pil_img)))  # Thêm nhiễu\n",
    "    augmented_images.append(np.array(blur_image(pil_img)))  # Làm mờ ảnh\n",
    "    augmented_images.append(np.array(adjust_sharpness(pil_img)))  # Điều chỉnh độ sắc nét\n",
    "    augmented_images.append(np.array(grayscale(pil_img)))  # Chuyển đổi sang đen trắng\n",
    "    augmented_images.append(np.array(cutout(pil_img)))  # Cắt các vùng ngẫu nhiên\n",
    "    augmented_images.append(np.array(elastic_deformation(pil_img)))  # Biến dạng đàn hồi\n",
    "    \n",
    "    return augmented_images"
   ]
  },
  {
   "cell_type": "code",
   "execution_count": 38,
   "id": "4a653514-c57a-41fd-bc9b-355dbaae6192",
   "metadata": {},
   "outputs": [],
   "source": [
    "# Hàm thực hiện tăng cường và lưu ảnh đầu ra\n",
    "def tangCuongAnh(thuMucVao, thuMucRa):\n",
    "    if not os.path.exists(thuMucRa):\n",
    "        os.makedirs(thuMucRa)\n",
    "    \n",
    "    image_files = [f for f in os.listdir(thuMucVao) if f.endswith('.jpg') or f.endswith('.png')]\n",
    "    \n",
    "    for image_file in image_files:\n",
    "        img_path = os.path.join(thuMucVao, image_file)\n",
    "        img = io.imread(img_path)\n",
    "        img = np.array(Image.fromarray(img).resize((224, 224)))\n",
    "        \n",
    "        # Tạo ảnh tăng cường\n",
    "        augmented_images = augment_image(img)  # Gọi hàm tăng cường\n",
    "        for i, aug_img in enumerate(augmented_images):  # Duyệt qua từng ảnh đã tăng cường\n",
    "            aug_img_pil = Image.fromarray(aug_img)\n",
    "            aug_img_pil.save(os.path.join(thuMucRa, f\"{image_file.split('.')[0]}_aug_{i}.png\"))  # Lưu ảnh tăng cường"
   ]
  },
  {
   "cell_type": "code",
   "execution_count": 39,
   "id": "07088adb-371e-4778-9780-45646123dfd5",
   "metadata": {},
   "outputs": [],
   "source": [
    "# Thư mục đầu vào và đầu ra\n",
    "ThuMucDauVao = 'D:/AnacondaPython/NCKH/TangCuongDuLieu/Original'\n",
    "ThuMucDauRa = 'D:/AnacondaPython/NCKH/TangCuongDuLieu/Augmented'\n",
    "TepCon = ['Benign', 'Early', 'Pre', 'Pro']  # Các thư mục con trong thư mục gốc"
   ]
  },
  {
   "cell_type": "code",
   "execution_count": 40,
   "id": "9815aecd-9415-4f9f-bc9f-164ff2699e8e",
   "metadata": {},
   "outputs": [
    {
     "name": "stdout",
     "output_type": "stream",
     "text": [
      "Hoàn thành tăng cường dữ liệu cho các giai đoạn bệnh.\n"
     ]
    }
   ],
   "source": [
    "# Thực hiện tăng cường cho từng thư mục con\n",
    "for sub_dir in TepCon:\n",
    "    input_path = os.path.join(ThuMucDauVao, sub_dir)\n",
    "    output_path = os.path.join(ThuMucDauRa, f\"{sub_dir}_aug\")\n",
    "    tangCuongAnh(input_path, output_path)  # Gọi hàm tăng cường\n",
    "\n",
    "print(\"Hoàn thành tăng cường dữ liệu cho các giai đoạn bệnh.\")"
   ]
  },
  {
   "cell_type": "code",
   "execution_count": null,
   "id": "af9e6bed-0d44-46aa-88bd-a67790c5b10b",
   "metadata": {},
   "outputs": [],
   "source": []
  },
  {
   "cell_type": "code",
   "execution_count": null,
   "id": "c9ca7f1e-01bc-438f-849d-b0de76a782c3",
   "metadata": {},
   "outputs": [],
   "source": []
  },
  {
   "cell_type": "code",
   "execution_count": 75,
   "id": "27cc571b-4466-4476-9c7d-8cb52e6e37f5",
   "metadata": {},
   "outputs": [],
   "source": [
    "import os\n",
    "import numpy as np\n",
    "import random\n",
    "from PIL import Image\n",
    "import cv2\n",
    "from skimage import io"
   ]
  },
  {
   "cell_type": "code",
   "execution_count": 76,
   "id": "168c83ee-aa49-436f-b19e-f0600896faba",
   "metadata": {},
   "outputs": [],
   "source": [
    "# Các kỹ thuật tăng cường ảnh\n",
    "def rotate_image(img):\n",
    "    angle = random.randint(0, 360)\n",
    "    height, width = img.shape[:2]\n",
    "    center = (width // 2, height // 2)\n",
    "    matrix = cv2.getRotationMatrix2D(center, angle, 1.0)\n",
    "    return cv2.warpAffine(img, matrix, (width, height))"
   ]
  },
  {
   "cell_type": "code",
   "execution_count": 77,
   "id": "8500c7a3-5738-4d91-a4e0-652f4caa300e",
   "metadata": {},
   "outputs": [],
   "source": [
    "def flip_image(img):\n",
    "    return cv2.flip(img, 1)  # Lật ngang"
   ]
  },
  {
   "cell_type": "code",
   "execution_count": 78,
   "id": "ef4ca0f8-0463-4ff2-93f2-f352a4803734",
   "metadata": {},
   "outputs": [],
   "source": [
    "def brightness_adjustment(img):\n",
    "    factor = random.uniform(0.5, 1.5)  # Thay đổi độ sáng\n",
    "    return cv2.convertScaleAbs(img, alpha=factor, beta=0)\n"
   ]
  },
  {
   "cell_type": "code",
   "execution_count": 79,
   "id": "2a684052-30b4-4978-aab7-bae7f0ca0b72",
   "metadata": {},
   "outputs": [],
   "source": [
    "def contrast_adjustment(img):\n",
    "    factor = random.uniform(0.5, 1.5)  # Thay đổi độ tương phản\n",
    "    return cv2.convertScaleAbs(img, alpha=factor, beta=0)"
   ]
  },
  {
   "cell_type": "code",
   "execution_count": 80,
   "id": "815a18fc-a2ed-4523-94ca-caad9832577f",
   "metadata": {},
   "outputs": [],
   "source": [
    "def zoom_in(img):\n",
    "    h, w = img.shape[:2]\n",
    "    if h < 2 or w < 2:\n",
    "        return img  # Trả về ảnh gốc nếu quá nhỏ\n",
    "    zoomed = cv2.resize(img, None, fx=1.2, fy=1.2)  # Phóng to\n",
    "    return zoomed[h//2 - h//4:h//2 + h//4, w//2 - w//4:w//2 + w//4]\n"
   ]
  },
  {
   "cell_type": "code",
   "execution_count": 81,
   "id": "7fb6bf4c-0ec4-46b2-8103-1f243514b7ae",
   "metadata": {},
   "outputs": [],
   "source": [
    "def zoom_out(img):\n",
    "    h, w = img.shape[:2]\n",
    "    return cv2.resize(img, (w//2, h//2))  # Thu nhỏ"
   ]
  },
  {
   "cell_type": "code",
   "execution_count": 82,
   "id": "7aec257c-b19a-40d0-80c9-51f308db868b",
   "metadata": {},
   "outputs": [],
   "source": [
    "def blur_image(img):\n",
    "    return cv2.GaussianBlur(img, (5, 5), 0)  # Làm mờ\n"
   ]
  },
  {
   "cell_type": "code",
   "execution_count": 83,
   "id": "649afa5e-6921-48b1-8b75-b814a71d1247",
   "metadata": {},
   "outputs": [],
   "source": [
    "def sharpen_image(img):\n",
    "    kernel = np.array([[0, -1, 0],\n",
    "                       [-1, 5, -1],\n",
    "                       [0, -1, 0]])\n",
    "    return cv2.filter2D(img, -1, kernel)  # Tăng cường độ nét"
   ]
  },
  {
   "cell_type": "code",
   "execution_count": 84,
   "id": "4c4d3e90-667c-4ff9-915b-0135b5fb4d5e",
   "metadata": {},
   "outputs": [],
   "source": [
    "def salt_and_pepper_noise(img):\n",
    "    s_vs_p = 0.5\n",
    "    amount = 0.04\n",
    "    out = np.copy(img)\n",
    "    # Salt noise\n",
    "    num_salt = np.ceil(amount * img.size * s_vs_p)\n",
    "    coords = [np.random.randint(0, i - 1, int(num_salt))\n",
    "              for i in img.shape]\n",
    "    out[coords] = 1\n",
    "\n",
    "    # Pepper noise\n",
    "    num_pepper = np.ceil(amount* img.size * (1. - s_vs_p))\n",
    "    coords = [np.random.randint(0, i - 1, int(num_pepper))\n",
    "              for i in img.shape]\n",
    "    out[coords] = 0\n",
    "    return out"
   ]
  },
  {
   "cell_type": "code",
   "execution_count": 85,
   "id": "c35bdea0-d76c-4808-b577-c255481bbe2d",
   "metadata": {},
   "outputs": [],
   "source": [
    "def random_erasing(img):\n",
    "    h, w = img.shape[:2]\n",
    "    x = random.randint(0, w // 2)\n",
    "    y = random.randint(0, h // 2)\n",
    "    img_copy = img.copy()  # Tạo bản sao của ảnh\n",
    "    img_copy[y:y + h // 4, x:x + w // 4] = 0  # Xóa ngẫu nhiên\n",
    "    return img_copy  # Trả về ảnh đã được xóa ngẫu nhiên\n"
   ]
  },
  {
   "cell_type": "code",
   "execution_count": 86,
   "id": "c45f8c1f-2ffa-4291-b18c-b86de00bd786",
   "metadata": {},
   "outputs": [],
   "source": [
    "def perspective_transform(img):\n",
    "    h, w = img.shape[:2]\n",
    "    pts1 = np.float32([[0, 0], [w, 0], [0, h], [w, h]])\n",
    "    pts2 = np.float32([[random.randint(0, w//4), random.randint(0, h//4)],\n",
    "                       [random.randint(w - w//4, w), random.randint(0, h//4)],\n",
    "                       [random.randint(0, w//4), random.randint(h - h//4, h)],\n",
    "                       [random.randint(w - w//4, w), random.randint(h - h//4, h)]])\n",
    "    matrix = cv2.getPerspectiveTransform(pts1, pts2)\n",
    "    return cv2.warpPerspective(img, matrix, (w, h))"
   ]
  },
  {
   "cell_type": "code",
   "execution_count": 87,
   "id": "03f08f54-3b98-41e4-ad11-648b26479186",
   "metadata": {},
   "outputs": [],
   "source": [
    "def horizontal_flip(img):\n",
    "    return cv2.flip(img, 0)  # Lật dọc"
   ]
  },
  {
   "cell_type": "code",
   "execution_count": 88,
   "id": "bebc2b08-c065-4048-b08e-f62fcfc88849",
   "metadata": {},
   "outputs": [],
   "source": [
    "def vertical_flip(img):\n",
    "    return cv2.flip(img, 1)  # Lật ngang\n"
   ]
  },
  {
   "cell_type": "code",
   "execution_count": 89,
   "id": "c61cefe4-6208-4678-9d29-dc7d5fc0da31",
   "metadata": {},
   "outputs": [],
   "source": [
    "def color_jitter(img):\n",
    "    brightness = random.uniform(0.5, 1.5)\n",
    "    contrast = random.uniform(0.5, 1.5)\n",
    "    img = cv2.convertScaleAbs(img, alpha=contrast, beta=0)\n",
    "    return cv2.convertScaleAbs(img, alpha=brightness, beta=0)"
   ]
  },
  {
   "cell_type": "code",
   "execution_count": 90,
   "id": "29a3f9d5-57dd-4701-a280-007c1ec83b1f",
   "metadata": {},
   "outputs": [],
   "source": [
    "def grayscale(img):\n",
    "    return cv2.cvtColor(img, cv2.COLOR_BGR2GRAY)  # Chuyển sang ảnh xám\n"
   ]
  },
  {
   "cell_type": "code",
   "execution_count": 91,
   "id": "47266264-bc88-431d-ba53-8a7039b978f0",
   "metadata": {},
   "outputs": [],
   "source": [
    "def affine_transformation(img):\n",
    "    rows, cols, _ = img.shape\n",
    "    M = np.float32([[1, 0, 30], [0, 1, 10]])  # Dịch chuyển\n",
    "    return cv2.warpAffine(img, M, (cols, rows))\n"
   ]
  },
  {
   "cell_type": "code",
   "execution_count": 92,
   "id": "056eccea-b761-458d-9910-b77a94ca6f87",
   "metadata": {},
   "outputs": [],
   "source": [
    "def shear_image(img):\n",
    "    rows, cols, _ = img.shape\n",
    "    M = np.float32([[1, 0.5, 0], [0, 1, 0]])  # Biến dạng\n",
    "    return cv2.warpAffine(img, M, (cols, rows))\n"
   ]
  },
  {
   "cell_type": "code",
   "execution_count": 93,
   "id": "bb9c1814-bef0-477d-beaa-8438e73b389d",
   "metadata": {},
   "outputs": [],
   "source": [
    "def random_erasing(img):\n",
    "    h, w = img.shape[:2]\n",
    "    x = random.randint(0, w // 2)\n",
    "    y = random.randint(0, h // 2)\n",
    "    img[y:y + h // 4, x:x + w // 4] = 0  # Xóa ngẫu nhiên"
   ]
  },
  {
   "cell_type": "code",
   "execution_count": 94,
   "id": "e605e712-4952-4448-993e-095049fb7bb4",
   "metadata": {},
   "outputs": [],
   "source": [
    "def image_inversion(img):\n",
    "    return cv2.bitwise_not(img)  # Đảo màu"
   ]
  },
  {
   "cell_type": "code",
   "execution_count": 95,
   "id": "cb28b005-a26c-4601-89a5-593efd11723d",
   "metadata": {},
   "outputs": [],
   "source": [
    "def crop_and_resize(img):\n",
    "    h, w = img.shape[:2]\n",
    "    crop_img = img[h // 4:h * 3 // 4, w // 4:w * 3 // 4]\n",
    "    return cv2.resize(crop_img, (w, h))  # Cắt và thay đổi kích thước"
   ]
  },
  {
   "cell_type": "code",
   "execution_count": 96,
   "id": "ad6ef7d0-0b03-4a02-aefb-4717b77b4204",
   "metadata": {},
   "outputs": [],
   "source": [
    "# Hàm chính để tăng cường ảnh\n",
    "def augment_image(img):\n",
    "    augmented_images = []\n",
    "    \n",
    "    augmented_images.append(rotate_image(img))\n",
    "    augmented_images.append(flip_image(img))\n",
    "    augmented_images.append(brightness_adjustment(img))\n",
    "    augmented_images.append(contrast_adjustment(img))\n",
    "    augmented_images.append(zoom_in(img))\n",
    "    augmented_images.append(zoom_out(img))\n",
    "    augmented_images.append(blur_image(img))\n",
    "    augmented_images.append(sharpen_image(img))\n",
    "    augmented_images.append(salt_and_pepper_noise(img))\n",
    "    augmented_images.append(random_crop(img))\n",
    "    augmented_images.append(perspective_transform(img))\n",
    "    augmented_images.append(horizontal_flip(img))\n",
    "    augmented_images.append(vertical_flip(img))\n",
    "    augmented_images.append(color_jitter(img))\n",
    "    augmented_images.append(grayscale(img))\n",
    "    augmented_images.append(affine_transformation(img))\n",
    "    augmented_images.append(shear_image(img))\n",
    "    augmented_images.append(random_erasing(img))\n",
    "    augmented_images.append(image_inversion(img))\n",
    "    augmented_images.append(crop_and_resize(img))\n",
    "\n",
    "    return augmented_images"
   ]
  },
  {
   "cell_type": "code",
   "execution_count": 97,
   "id": "be921b03-a987-408b-a9aa-b3c7d1b8198d",
   "metadata": {},
   "outputs": [],
   "source": [
    "# Hàm thực hiện tăng cường và lưu ảnh đầu ra\n",
    "def tangCuongAnh(thuMucVao, thuMucRa):\n",
    "    if not os.path.exists(thuMucRa):\n",
    "        os.makedirs(thuMucRa)\n",
    "    \n",
    "    image_files = [f for f in os.listdir(thuMucVao) if f.endswith('.jpg') or f.endswith('.png')]\n",
    "    \n",
    "    for image_file in image_files:\n",
    "        img_path = os.path.join(thuMucVao, image_file)\n",
    "        img = io.imread(img_path)\n",
    "        img = np.array(Image.fromarray(img).resize((224, 224)))\n",
    "        \n",
    "        # Tạo ảnh tăng cường\n",
    "        augmented_images = augment_image(img)  # Gọi hàm tăng cường\n",
    "        for i, aug_img in enumerate(augmented_images):  # Duyệt qua từng ảnh đã tăng cường\n",
    "            aug_img_pil = Image.fromarray(aug_img)\n",
    "            aug_img_pil.save(os.path.join(thuMucRa, f\"{image_file.split('.')[0]}_aug_{i}.png\"))  # Lưu ảnh tăng cường\n"
   ]
  },
  {
   "cell_type": "code",
   "execution_count": 98,
   "id": "76c5e387-162d-43b0-bee8-11d25d51a6b2",
   "metadata": {},
   "outputs": [],
   "source": [
    "# Thư mục đầu vào và đầu ra\n",
    "ThuMucDauVao = 'D:/AnacondaPython/NCKH/TangCuongDuLieu/Original'\n",
    "ThuMucDauRa = 'D:/AnacondaPython/NCKH/TangCuongDuLieu/Augmented'\n",
    "TepCon = ['Benign', 'Early', 'Pre', 'Pro']  # Các thư mục con trong thư mục gốc"
   ]
  },
  {
   "cell_type": "code",
   "execution_count": 99,
   "id": "bd9f4499-ef57-4731-b06f-9e11c04b025c",
   "metadata": {},
   "outputs": [
    {
     "ename": "AttributeError",
     "evalue": "'NoneType' object has no attribute '__array_interface__'",
     "output_type": "error",
     "traceback": [
      "\u001b[1;31m---------------------------------------------------------------------------\u001b[0m",
      "\u001b[1;31mAttributeError\u001b[0m                            Traceback (most recent call last)",
      "Cell \u001b[1;32mIn[99], line 5\u001b[0m\n\u001b[0;32m      3\u001b[0m     input_path \u001b[38;5;241m=\u001b[39m os\u001b[38;5;241m.\u001b[39mpath\u001b[38;5;241m.\u001b[39mjoin(ThuMucDauVao, sub_dir)\n\u001b[0;32m      4\u001b[0m     output_path \u001b[38;5;241m=\u001b[39m os\u001b[38;5;241m.\u001b[39mpath\u001b[38;5;241m.\u001b[39mjoin(ThuMucDauRa, \u001b[38;5;124mf\u001b[39m\u001b[38;5;124m\"\u001b[39m\u001b[38;5;132;01m{\u001b[39;00msub_dir\u001b[38;5;132;01m}\u001b[39;00m\u001b[38;5;124m_aug\u001b[39m\u001b[38;5;124m\"\u001b[39m)\n\u001b[1;32m----> 5\u001b[0m     tangCuongAnh(input_path, output_path)  \u001b[38;5;66;03m# Gọi hàm tăng cường\u001b[39;00m\n\u001b[0;32m      7\u001b[0m \u001b[38;5;28mprint\u001b[39m(\u001b[38;5;124m\"\u001b[39m\u001b[38;5;124mHoàn thành tăng cường dữ liệu cho các giai đoạn bệnh.\u001b[39m\u001b[38;5;124m\"\u001b[39m)\n",
      "Cell \u001b[1;32mIn[97], line 16\u001b[0m, in \u001b[0;36mtangCuongAnh\u001b[1;34m(thuMucVao, thuMucRa)\u001b[0m\n\u001b[0;32m     14\u001b[0m augmented_images \u001b[38;5;241m=\u001b[39m augment_image(img)  \u001b[38;5;66;03m# Gọi hàm tăng cường\u001b[39;00m\n\u001b[0;32m     15\u001b[0m \u001b[38;5;28;01mfor\u001b[39;00m i, aug_img \u001b[38;5;129;01min\u001b[39;00m \u001b[38;5;28menumerate\u001b[39m(augmented_images):  \u001b[38;5;66;03m# Duyệt qua từng ảnh đã tăng cường\u001b[39;00m\n\u001b[1;32m---> 16\u001b[0m     aug_img_pil \u001b[38;5;241m=\u001b[39m Image\u001b[38;5;241m.\u001b[39mfromarray(aug_img)\n\u001b[0;32m     17\u001b[0m     aug_img_pil\u001b[38;5;241m.\u001b[39msave(os\u001b[38;5;241m.\u001b[39mpath\u001b[38;5;241m.\u001b[39mjoin(thuMucRa, \u001b[38;5;124mf\u001b[39m\u001b[38;5;124m\"\u001b[39m\u001b[38;5;132;01m{\u001b[39;00mimage_file\u001b[38;5;241m.\u001b[39msplit(\u001b[38;5;124m'\u001b[39m\u001b[38;5;124m.\u001b[39m\u001b[38;5;124m'\u001b[39m)[\u001b[38;5;241m0\u001b[39m]\u001b[38;5;132;01m}\u001b[39;00m\u001b[38;5;124m_aug_\u001b[39m\u001b[38;5;132;01m{\u001b[39;00mi\u001b[38;5;132;01m}\u001b[39;00m\u001b[38;5;124m.png\u001b[39m\u001b[38;5;124m\"\u001b[39m))\n",
      "File \u001b[1;32mD:\\Users\\ADMIN\\anaconda3\\Lib\\site-packages\\PIL\\Image.py:3087\u001b[0m, in \u001b[0;36mfromarray\u001b[1;34m(obj, mode)\u001b[0m\n\u001b[0;32m   3040\u001b[0m \u001b[38;5;28;01mdef\u001b[39;00m \u001b[38;5;21mfromarray\u001b[39m(obj, mode\u001b[38;5;241m=\u001b[39m\u001b[38;5;28;01mNone\u001b[39;00m):\n\u001b[0;32m   3041\u001b[0m \u001b[38;5;250m    \u001b[39m\u001b[38;5;124;03m\"\"\"\u001b[39;00m\n\u001b[0;32m   3042\u001b[0m \u001b[38;5;124;03m    Creates an image memory from an object exporting the array interface\u001b[39;00m\n\u001b[0;32m   3043\u001b[0m \u001b[38;5;124;03m    (using the buffer protocol)::\u001b[39;00m\n\u001b[1;32m   (...)\u001b[0m\n\u001b[0;32m   3085\u001b[0m \u001b[38;5;124;03m    .. versionadded:: 1.1.6\u001b[39;00m\n\u001b[0;32m   3086\u001b[0m \u001b[38;5;124;03m    \"\"\"\u001b[39;00m\n\u001b[1;32m-> 3087\u001b[0m     arr \u001b[38;5;241m=\u001b[39m obj\u001b[38;5;241m.\u001b[39m__array_interface__\n\u001b[0;32m   3088\u001b[0m     shape \u001b[38;5;241m=\u001b[39m arr[\u001b[38;5;124m\"\u001b[39m\u001b[38;5;124mshape\u001b[39m\u001b[38;5;124m\"\u001b[39m]\n\u001b[0;32m   3089\u001b[0m     ndim \u001b[38;5;241m=\u001b[39m \u001b[38;5;28mlen\u001b[39m(shape)\n",
      "\u001b[1;31mAttributeError\u001b[0m: 'NoneType' object has no attribute '__array_interface__'"
     ]
    }
   ],
   "source": [
    "# Thực hiện tăng cường cho từng thư mục con\n",
    "for sub_dir in TepCon:\n",
    "    input_path = os.path.join(ThuMucDauVao, sub_dir)\n",
    "    output_path = os.path.join(ThuMucDauRa, f\"{sub_dir}_aug\")\n",
    "    tangCuongAnh(input_path, output_path)  # Gọi hàm tăng cường\n",
    "\n",
    "print(\"Hoàn thành tăng cường dữ liệu cho các giai đoạn bệnh.\")"
   ]
  },
  {
   "cell_type": "code",
   "execution_count": 101,
   "id": "3a6ad4d9-cfaf-4231-a82c-ed9db453f62e",
   "metadata": {},
   "outputs": [
    {
     "ename": "AttributeError",
     "evalue": "'NoneType' object has no attribute '__array_interface__'",
     "output_type": "error",
     "traceback": [
      "\u001b[1;31m---------------------------------------------------------------------------\u001b[0m",
      "\u001b[1;31mAttributeError\u001b[0m                            Traceback (most recent call last)",
      "Cell \u001b[1;32mIn[101], line 176\u001b[0m\n\u001b[0;32m    174\u001b[0m     input_path \u001b[38;5;241m=\u001b[39m os\u001b[38;5;241m.\u001b[39mpath\u001b[38;5;241m.\u001b[39mjoin(ThuMucDauVao, sub_dir)\n\u001b[0;32m    175\u001b[0m     output_path \u001b[38;5;241m=\u001b[39m os\u001b[38;5;241m.\u001b[39mpath\u001b[38;5;241m.\u001b[39mjoin(ThuMucDauRa, \u001b[38;5;124mf\u001b[39m\u001b[38;5;124m\"\u001b[39m\u001b[38;5;132;01m{\u001b[39;00msub_dir\u001b[38;5;132;01m}\u001b[39;00m\u001b[38;5;124m_aug\u001b[39m\u001b[38;5;124m\"\u001b[39m)\n\u001b[1;32m--> 176\u001b[0m     tangCuongAnh(input_path, output_path)  \u001b[38;5;66;03m# Gọi hàm tăng cường\u001b[39;00m\n\u001b[0;32m    178\u001b[0m \u001b[38;5;28mprint\u001b[39m(\u001b[38;5;124m\"\u001b[39m\u001b[38;5;124mHoàn thành tăng cường dữ liệu cho các giai đoạn bệnh.\u001b[39m\u001b[38;5;124m\"\u001b[39m)\n",
      "Cell \u001b[1;32mIn[101], line 164\u001b[0m, in \u001b[0;36mtangCuongAnh\u001b[1;34m(thuMucVao, thuMucRa)\u001b[0m\n\u001b[0;32m    162\u001b[0m augmented_images \u001b[38;5;241m=\u001b[39m augment_image(img)  \u001b[38;5;66;03m# Gọi hàm tăng cường\u001b[39;00m\n\u001b[0;32m    163\u001b[0m \u001b[38;5;28;01mfor\u001b[39;00m i, aug_img \u001b[38;5;129;01min\u001b[39;00m \u001b[38;5;28menumerate\u001b[39m(augmented_images):  \u001b[38;5;66;03m# Duyệt qua từng ảnh đã tăng cường\u001b[39;00m\n\u001b[1;32m--> 164\u001b[0m     aug_img_pil \u001b[38;5;241m=\u001b[39m Image\u001b[38;5;241m.\u001b[39mfromarray(aug_img)\n\u001b[0;32m    165\u001b[0m     aug_img_pil\u001b[38;5;241m.\u001b[39msave(os\u001b[38;5;241m.\u001b[39mpath\u001b[38;5;241m.\u001b[39mjoin(thuMucRa, \u001b[38;5;124mf\u001b[39m\u001b[38;5;124m\"\u001b[39m\u001b[38;5;132;01m{\u001b[39;00mimage_file\u001b[38;5;241m.\u001b[39msplit(\u001b[38;5;124m'\u001b[39m\u001b[38;5;124m.\u001b[39m\u001b[38;5;124m'\u001b[39m)[\u001b[38;5;241m0\u001b[39m]\u001b[38;5;132;01m}\u001b[39;00m\u001b[38;5;124m_aug_\u001b[39m\u001b[38;5;132;01m{\u001b[39;00mi\u001b[38;5;132;01m}\u001b[39;00m\u001b[38;5;124m.png\u001b[39m\u001b[38;5;124m\"\u001b[39m))\n",
      "File \u001b[1;32mD:\\Users\\ADMIN\\anaconda3\\Lib\\site-packages\\PIL\\Image.py:3087\u001b[0m, in \u001b[0;36mfromarray\u001b[1;34m(obj, mode)\u001b[0m\n\u001b[0;32m   3040\u001b[0m \u001b[38;5;28;01mdef\u001b[39;00m \u001b[38;5;21mfromarray\u001b[39m(obj, mode\u001b[38;5;241m=\u001b[39m\u001b[38;5;28;01mNone\u001b[39;00m):\n\u001b[0;32m   3041\u001b[0m \u001b[38;5;250m    \u001b[39m\u001b[38;5;124;03m\"\"\"\u001b[39;00m\n\u001b[0;32m   3042\u001b[0m \u001b[38;5;124;03m    Creates an image memory from an object exporting the array interface\u001b[39;00m\n\u001b[0;32m   3043\u001b[0m \u001b[38;5;124;03m    (using the buffer protocol)::\u001b[39;00m\n\u001b[1;32m   (...)\u001b[0m\n\u001b[0;32m   3085\u001b[0m \u001b[38;5;124;03m    .. versionadded:: 1.1.6\u001b[39;00m\n\u001b[0;32m   3086\u001b[0m \u001b[38;5;124;03m    \"\"\"\u001b[39;00m\n\u001b[1;32m-> 3087\u001b[0m     arr \u001b[38;5;241m=\u001b[39m obj\u001b[38;5;241m.\u001b[39m__array_interface__\n\u001b[0;32m   3088\u001b[0m     shape \u001b[38;5;241m=\u001b[39m arr[\u001b[38;5;124m\"\u001b[39m\u001b[38;5;124mshape\u001b[39m\u001b[38;5;124m\"\u001b[39m]\n\u001b[0;32m   3089\u001b[0m     ndim \u001b[38;5;241m=\u001b[39m \u001b[38;5;28mlen\u001b[39m(shape)\n",
      "\u001b[1;31mAttributeError\u001b[0m: 'NoneType' object has no attribute '__array_interface__'"
     ]
    }
   ],
   "source": [
    "import os\n",
    "import numpy as np\n",
    "import random\n",
    "from PIL import Image\n",
    "import cv2\n",
    "from skimage import io\n",
    "\n",
    "# Các kỹ thuật tăng cường ảnh\n",
    "def rotate_image(img):\n",
    "    try:\n",
    "        angle = random.randint(0, 360)\n",
    "        height, width = img.shape[:2]\n",
    "        center = (width // 2, height // 2)\n",
    "        matrix = cv2.getRotationMatrix2D(center, angle, 1.0)\n",
    "        return cv2.warpAffine(img, matrix, (width, height))\n",
    "    except Exception as e:\n",
    "        print(f\"Error in rotate_image: {e}\")\n",
    "        return img\n",
    "\n",
    "def flip_image(img):\n",
    "    return cv2.flip(img, 1)  # Lật ngang\n",
    "\n",
    "def brightness_adjustment(img):\n",
    "    factor = random.uniform(0.5, 1.5)  # Thay đổi độ sáng\n",
    "    return cv2.convertScaleAbs(img, alpha=factor, beta=0)\n",
    "\n",
    "def contrast_adjustment(img):\n",
    "    factor = random.uniform(0.5, 1.5)  # Thay đổi độ tương phản\n",
    "    return cv2.convertScaleAbs(img, alpha=factor, beta=0)\n",
    "\n",
    "def zoom_in(img):\n",
    "    h, w = img.shape[:2]\n",
    "    if h < 2 or w < 2:  # Kiểm tra kích thước\n",
    "        return img\n",
    "    zoomed = cv2.resize(img, None, fx=1.2, fy=1.2)  # Phóng to\n",
    "    return zoomed[h//2 - h//4:h//2 + h//4, w//2 - w//4:w//2 + w//4]\n",
    "\n",
    "def zoom_out(img):\n",
    "    h, w = img.shape[:2]\n",
    "    return cv2.resize(img, (w//2, h//2))  # Thu nhỏ\n",
    "\n",
    "def blur_image(img):\n",
    "    return cv2.GaussianBlur(img, (5, 5), 0)  # Làm mờ\n",
    "\n",
    "def sharpen_image(img):\n",
    "    kernel = np.array([[0, -1, 0],\n",
    "                       [-1, 5, -1],\n",
    "                       [0, -1, 0]])\n",
    "    return cv2.filter2D(img, -1, kernel)  # Tăng cường độ nét\n",
    "\n",
    "def salt_and_pepper_noise(img):\n",
    "    s_vs_p = 0.5\n",
    "    amount = 0.04\n",
    "    out = np.copy(img)\n",
    "    \n",
    "    # Salt noise\n",
    "    num_salt = np.ceil(amount * img.size * s_vs_p)\n",
    "    coords = [np.random.randint(0, i - 1, int(num_salt)) for i in img.shape]\n",
    "    out[coords] = 1\n",
    "\n",
    "    # Pepper noise\n",
    "    num_pepper = np.ceil(amount * img.size * (1. - s_vs_p))\n",
    "    coords = [np.random.randint(0, i - 1, int(num_pepper)) for i in img.shape]\n",
    "    out[coords] = 0\n",
    "    return out\n",
    "\n",
    "def random_crop(img):\n",
    "    h, w = img.shape[:2]\n",
    "    x = random.randint(0, w // 4)\n",
    "    y = random.randint(0, h // 4)\n",
    "    return img[y:y + h // 2, x:x + w // 2]  # Cắt ngẫu nhiên\n",
    "\n",
    "def perspective_transform(img):\n",
    "    h, w = img.shape[:2]\n",
    "    pts1 = np.float32([[0, 0], [w, 0], [0, h], [w, h]])\n",
    "    pts2 = np.float32([[random.randint(0, w//4), random.randint(0, h//4)],\n",
    "                       [random.randint(w - w//4, w), random.randint(0, h//4)],\n",
    "                       [random.randint(0, w//4), random.randint(h - h//4, h)],\n",
    "                       [random.randint(w - w//4, w), random.randint(h - h//4, h)]])\n",
    "    matrix = cv2.getPerspectiveTransform(pts1, pts2)\n",
    "    return cv2.warpPerspective(img, matrix, (w, h))\n",
    "\n",
    "def horizontal_flip(img):\n",
    "    return cv2.flip(img, 0)  # Lật dọc\n",
    "\n",
    "def vertical_flip(img):\n",
    "    return cv2.flip(img, 1)  # Lật ngang\n",
    "\n",
    "def color_jitter(img):\n",
    "    brightness = random.uniform(0.5, 1.5)\n",
    "    contrast = random.uniform(0.5, 1.5)\n",
    "    img = cv2.convertScaleAbs(img, alpha=contrast, beta=0)\n",
    "    return cv2.convertScaleAbs(img, alpha=brightness, beta=0)\n",
    "\n",
    "def grayscale(img):\n",
    "    return cv2.cvtColor(img, cv2.COLOR_BGR2GRAY)  # Chuyển sang ảnh xám\n",
    "\n",
    "def affine_transformation(img):\n",
    "    rows, cols, _ = img.shape\n",
    "    M = np.float32([[1, 0, 30], [0, 1, 10]])  # Dịch chuyển\n",
    "    return cv2.warpAffine(img, M, (cols, rows))\n",
    "\n",
    "def shear_image(img):\n",
    "    rows, cols, _ = img.shape\n",
    "    M = np.float32([[1, 0.5, 0], [0, 1, 0]])  # Biến dạng\n",
    "    return cv2.warpAffine(img, M, (cols, rows))\n",
    "\n",
    "def random_erasing(img):\n",
    "    h, w = img.shape[:2]\n",
    "    x = random.randint(0, w // 2)\n",
    "    y = random.randint(0, h // 2)\n",
    "    img[y:y + h // 4, x:x + w // 4] = 0  # Xóa ngẫu nhiên\n",
    "\n",
    "def image_inversion(img):\n",
    "    return cv2.bitwise_not(img)  # Đảo màu\n",
    "\n",
    "def crop_and_resize(img):\n",
    "    h, w = img.shape[:2]\n",
    "    crop_img = img[h // 4:h * 3 // 4, w // 4:w * 3 // 4]\n",
    "    return cv2.resize(crop_img, (w, h))  # Cắt và thay đổi kích thước\n",
    "\n",
    "# Hàm chính để tăng cường ảnh\n",
    "def augment_image(img):\n",
    "    augmented_images = []\n",
    "    \n",
    "    augmented_images.append(rotate_image(img))\n",
    "    augmented_images.append(flip_image(img))\n",
    "    augmented_images.append(brightness_adjustment(img))\n",
    "    augmented_images.append(contrast_adjustment(img))\n",
    "    augmented_images.append(zoom_in(img))\n",
    "    augmented_images.append(zoom_out(img))\n",
    "    augmented_images.append(blur_image(img))\n",
    "    augmented_images.append(sharpen_image(img))\n",
    "    augmented_images.append(salt_and_pepper_noise(img))\n",
    "    augmented_images.append(random_crop(img))\n",
    "    augmented_images.append(perspective_transform(img))\n",
    "    augmented_images.append(horizontal_flip(img))\n",
    "    augmented_images.append(vertical_flip(img))\n",
    "    augmented_images.append(color_jitter(img))\n",
    "    augmented_images.append(grayscale(img))\n",
    "    augmented_images.append(affine_transformation(img))\n",
    "    augmented_images.append(shear_image(img))\n",
    "    augmented_images.append(random_erasing(img))\n",
    "    augmented_images.append(image_inversion(img))\n",
    "    augmented_images.append(crop_and_resize(img))\n",
    "\n",
    "    return augmented_images\n",
    "\n",
    "# Hàm thực hiện tăng cường và lưu ảnh đầu ra\n",
    "def tangCuongAnh(thuMucVao, thuMucRa):\n",
    "    if not os.path.exists(thuMucRa):\n",
    "        os.makedirs(thuMucRa)\n",
    "    \n",
    "    image_files = [f for f in os.listdir(thuMucVao) if f.endswith('.jpg') or f.endswith('.png')]\n",
    "    \n",
    "    for image_file in image_files:\n",
    "        img_path = os.path.join(thuMucVao, image_file)\n",
    "        img = io.imread(img_path)\n",
    "        img = np.array(Image.fromarray(img).resize((224, 224)))  # Đảm bảo kích thước ảnh\n",
    "        \n",
    "        # Tạo ảnh tăng cường\n",
    "        augmented_images = augment_image(img)  # Gọi hàm tăng cường\n",
    "        for i, aug_img in enumerate(augmented_images):  # Duyệt qua từng ảnh đã tăng cường\n",
    "            aug_img_pil = Image.fromarray(aug_img)\n",
    "            aug_img_pil.save(os.path.join(thuMucRa, f\"{image_file.split('.')[0]}_aug_{i}.png\"))  # Lưu ảnh tăng cường\n",
    "\n",
    "# Thư mục đầu vào và đầu ra\n",
    "ThuMucDauVao = 'D:/AnacondaPython/NCKH/TangCuongDuLieu/Original'\n",
    "ThuMucDauRa = 'D:/AnacondaPython/NCKH/TangCuongDuLieu/Augmented'\n",
    "TepCon = ['Benign', 'Early', 'Pre', 'Pro']  # Các thư mục con trong thư mục gốc\n",
    "\n",
    "# Thực hiện tăng cường cho từng thư mục con\n",
    "for sub_dir in TepCon:\n",
    "    input_path = os.path.join(ThuMucDauVao, sub_dir)\n",
    "    output_path = os.path.join(ThuMucDauRa, f\"{sub_dir}_aug\")\n",
    "    tangCuongAnh(input_path, output_path)  # Gọi hàm tăng cường\n",
    "\n",
    "print(\"Hoàn thành tăng cường dữ liệu cho các giai đoạn bệnh.\")\n"
   ]
  },
  {
   "cell_type": "code",
   "execution_count": 52,
   "id": "a211f543-d901-486d-b8d9-2b51373ff8ed",
   "metadata": {},
   "outputs": [],
   "source": [
    "import os\n",
    "import numpy as np\n",
    "import random\n",
    "from PIL import Image\n",
    "import cv2\n",
    "from skimage import io"
   ]
  },
  {
   "cell_type": "code",
   "execution_count": 53,
   "id": "680f182d-33e2-43eb-b3c9-a6fa28de03a3",
   "metadata": {},
   "outputs": [],
   "source": [
    "# Các kỹ thuật tăng cường ảnh\n",
    "def rotate_image(img):\n",
    "    try:\n",
    "        angle = random.randint(0, 360)\n",
    "        height, width = img.shape[:2]\n",
    "        center = (width // 2, height // 2)\n",
    "        matrix = cv2.getRotationMatrix2D(center, angle, 1.0)\n",
    "        return cv2.warpAffine(img, matrix, (width, height))\n",
    "    except Exception as e:\n",
    "        print(f\"Error in rotate_image: {e}\")\n",
    "        return img"
   ]
  },
  {
   "cell_type": "code",
   "execution_count": 54,
   "id": "1960a5d1-b18e-4a6c-bd32-03975564a248",
   "metadata": {},
   "outputs": [],
   "source": [
    "def flip_image(img):\n",
    "    return cv2.flip(img, 1)  # Lật ngang"
   ]
  },
  {
   "cell_type": "code",
   "execution_count": 55,
   "id": "b275d8dd-6869-4710-81f4-0ab0bf847714",
   "metadata": {},
   "outputs": [],
   "source": [
    "def brightness_adjustment(img):\n",
    "    factor = random.uniform(0.5, 1.5)  # Thay đổi độ sáng\n",
    "    return cv2.convertScaleAbs(img, alpha=factor, beta=0)"
   ]
  },
  {
   "cell_type": "code",
   "execution_count": 56,
   "id": "8fa463e3-9197-4e02-8cf5-aa227fb6ed29",
   "metadata": {},
   "outputs": [],
   "source": [
    "def contrast_adjustment(img):\n",
    "    factor = random.uniform(0.5, 1.5)  # Thay đổi độ tương phản\n",
    "    return cv2.convertScaleAbs(img, alpha=factor, beta=0)"
   ]
  },
  {
   "cell_type": "code",
   "execution_count": 57,
   "id": "f173dd29-579e-45a9-a324-514d128f4da2",
   "metadata": {},
   "outputs": [],
   "source": [
    "def zoom_in(img):\n",
    "    h, w = img.shape[:2]\n",
    "    if h < 2 or w < 2:  # Kiểm tra kích thước\n",
    "        return img\n",
    "    zoomed = cv2.resize(img, None, fx=1.2, fy=1.2)  # Phóng to\n",
    "    return zoomed[h//2 - h//4:h//2 + h//4, w//2 - w//4:w//2 + w//4]"
   ]
  },
  {
   "cell_type": "code",
   "execution_count": 58,
   "id": "abc25c5a-5209-443f-a6fb-accffffdbca4",
   "metadata": {},
   "outputs": [],
   "source": [
    "def zoom_out(img):\n",
    "    h, w = img.shape[:2]\n",
    "    return cv2.resize(img, (w//2, h//2))  # Thu nhỏ"
   ]
  },
  {
   "cell_type": "code",
   "execution_count": 59,
   "id": "54cd3248-8917-400c-9466-486c91081d84",
   "metadata": {},
   "outputs": [],
   "source": [
    "def blur_image(img):\n",
    "    return cv2.GaussianBlur(img, (5, 5), 0)  # Làm mờ\n"
   ]
  },
  {
   "cell_type": "code",
   "execution_count": 60,
   "id": "c4c0ab90-92a0-436e-8760-7856a5ff17f7",
   "metadata": {},
   "outputs": [],
   "source": [
    "def sharpen_image(img):\n",
    "    kernel = np.array([[0, -1, 0],\n",
    "                       [-1, 5, -1],\n",
    "                       [0, -1, 0]])\n",
    "    return cv2.filter2D(img, -1, kernel)  # Tăng cường độ nét"
   ]
  },
  {
   "cell_type": "code",
   "execution_count": 61,
   "id": "087dd535-a517-420f-b4f5-896d10da7bc4",
   "metadata": {},
   "outputs": [],
   "source": [
    "def salt_and_pepper_noise(img):\n",
    "    s_vs_p = 0.5\n",
    "    amount = 0.04\n",
    "    out = np.copy(img)\n",
    "    \n",
    "    # Salt noise\n",
    "    num_salt = np.ceil(amount * img.size * s_vs_p)\n",
    "    coords = [np.random.randint(0, i - 1, int(num_salt)) for i in img.shape]\n",
    "    out[coords] = 1\n",
    "\n",
    "    # Pepper noise\n",
    "    num_pepper = np.ceil(amount * img.size * (1. - s_vs_p))\n",
    "    coords = [np.random.randint(0, i - 1, int(num_pepper)) for i in img.shape]\n",
    "    out[coords] = 0\n",
    "    return out"
   ]
  },
  {
   "cell_type": "code",
   "execution_count": 62,
   "id": "c4324bba-20c6-4497-8231-10eb7bb134db",
   "metadata": {},
   "outputs": [],
   "source": [
    "def random_crop(img):\n",
    "    h, w = img.shape[:2]\n",
    "    x = random.randint(0, w // 4)\n",
    "    y = random.randint(0, h // 4)\n",
    "    return img[y:y + h // 2, x:x + w // 2]  # Cắt ngẫu nhiên"
   ]
  },
  {
   "cell_type": "code",
   "execution_count": 63,
   "id": "637ecb34-fec3-4257-b891-23791b9ee186",
   "metadata": {},
   "outputs": [],
   "source": [
    "def perspective_transform(img):\n",
    "    h, w = img.shape[:2]\n",
    "    pts1 = np.float32([[0, 0], [w, 0], [0, h], [w, h]])\n",
    "    pts2 = np.float32([[random.randint(0, w//4), random.randint(0, h//4)],\n",
    "                       [random.randint(w - w//4, w), random.randint(0, h//4)],\n",
    "                       [random.randint(0, w//4), random.randint(h - h//4, h)],\n",
    "                       [random.randint(w - w//4, w), random.randint(h - h//4, h)]])\n",
    "    matrix = cv2.getPerspectiveTransform(pts1, pts2)\n",
    "    return cv2.warpPerspective(img, matrix, (w, h))"
   ]
  },
  {
   "cell_type": "code",
   "execution_count": 64,
   "id": "4b7635bf-b2af-4e2e-ac26-a7bd01e3a82c",
   "metadata": {},
   "outputs": [],
   "source": [
    "def horizontal_flip(img):\n",
    "    return cv2.flip(img, 0)  # Lật dọc\n"
   ]
  },
  {
   "cell_type": "code",
   "execution_count": 65,
   "id": "e47345d2-7e70-434f-9af5-c61b4847725e",
   "metadata": {},
   "outputs": [],
   "source": [
    "def vertical_flip(img):\n",
    "    return cv2.flip(img, 1)  # Lật ngang\n"
   ]
  },
  {
   "cell_type": "code",
   "execution_count": 66,
   "id": "3f616068-e928-4333-a91f-67594f241c45",
   "metadata": {},
   "outputs": [],
   "source": [
    "def color_jitter(img):\n",
    "    brightness = random.uniform(0.5, 1.5)\n",
    "    contrast = random.uniform(0.5, 1.5)\n",
    "    img = cv2.convertScaleAbs(img, alpha=contrast, beta=0)\n",
    "    return cv2.convertScaleAbs(img, alpha=brightness, beta=0)"
   ]
  },
  {
   "cell_type": "code",
   "execution_count": 67,
   "id": "d1eafbb2-fc52-4711-b11b-e1ab08e68dc8",
   "metadata": {},
   "outputs": [],
   "source": [
    "def grayscale(img):\n",
    "    return cv2.cvtColor(img, cv2.COLOR_BGR2GRAY)  # Chuyển sang ảnh xám"
   ]
  },
  {
   "cell_type": "code",
   "execution_count": 68,
   "id": "cdcc1298-d176-409f-8607-14851d314c46",
   "metadata": {},
   "outputs": [],
   "source": [
    "def affine_transformation(img):\n",
    "    rows, cols, _ = img.shape\n",
    "    M = np.float32([[1, 0, 30], [0, 1, 10]])  # Dịch chuyển\n",
    "    return cv2.warpAffine(img, M, (cols, rows))"
   ]
  },
  {
   "cell_type": "code",
   "execution_count": 69,
   "id": "fb375620-ac4f-43af-b6d8-5a44f2bb6b2f",
   "metadata": {},
   "outputs": [],
   "source": [
    "def shear_image(img):\n",
    "    rows, cols, _ = img.shape\n",
    "    M = np.float32([[1, 0.5, 0], [0, 1, 0]])  # Biến dạng\n",
    "    return cv2.warpAffine(img, M, (cols, rows))\n"
   ]
  },
  {
   "cell_type": "code",
   "execution_count": 70,
   "id": "7e83a192-2f42-4350-8e12-ce664b4a710b",
   "metadata": {},
   "outputs": [],
   "source": [
    "def random_erasing(img):\n",
    "    h, w = img.shape[:2]\n",
    "    x = random.randint(0, w // 2)\n",
    "    y = random.randint(0, h // 2)\n",
    "    img[y:y + h // 4, x:x + w // 4] = 0  # Xóa ngẫu nhiên\n"
   ]
  },
  {
   "cell_type": "code",
   "execution_count": 71,
   "id": "93dc4ef8-b334-4d3d-88dd-ebb4ecf53976",
   "metadata": {},
   "outputs": [],
   "source": [
    "def image_inversion(img):\n",
    "    return cv2.bitwise_not(img)  # Đảo màu\n"
   ]
  },
  {
   "cell_type": "code",
   "execution_count": 72,
   "id": "b29a16c5-12fc-4332-9d99-9c17a64f3d87",
   "metadata": {},
   "outputs": [],
   "source": [
    "def crop_and_resize(img):\n",
    "    h, w = img.shape[:2]\n",
    "    crop_img = img[h // 4:h * 3 // 4, w // 4:w * 3 // 4]\n",
    "    return cv2.resize(crop_img, (w, h))  # Cắt và thay đổi kích thước"
   ]
  },
  {
   "cell_type": "code",
   "execution_count": 73,
   "id": "bc166a78-a31f-4737-a312-76cf8c163ffe",
   "metadata": {},
   "outputs": [],
   "source": [
    "# Hàm chính để tăng cường ảnh\n",
    "def augment_image(img):\n",
    "    augmented_images = []\n",
    "    \n",
    "    transformations = [\n",
    "        rotate_image, flip_image, brightness_adjustment, contrast_adjustment,\n",
    "        zoom_in, zoom_out, blur_image, sharpen_image, salt_and_pepper_noise,\n",
    "        random_crop, perspective_transform, horizontal_flip, vertical_flip,\n",
    "        color_jitter, grayscale, affine_transformation, shear_image,\n",
    "        image_inversion, crop_and_resize\n",
    "    ]\n",
    "    \n",
    "    for transform in transformations:\n",
    "        try:\n",
    "            aug_img = transform(img)\n",
    "            if aug_img is not None:  # Kiểm tra nếu ảnh không phải là None\n",
    "                augmented_images.append(aug_img)\n",
    "        except Exception as e:\n",
    "            print(f\"Error in {transform.__name__}: {e}\")\n",
    "\n",
    "    return augmented_images"
   ]
  },
  {
   "cell_type": "code",
   "execution_count": 74,
   "id": "4eb8e24a-a91a-41c0-9728-8d457a0f0b0f",
   "metadata": {},
   "outputs": [],
   "source": [
    "# Hàm thực hiện tăng cường và lưu ảnh đầu ra\n",
    "def tangCuongAnh(thuMucVao, thuMucRa):\n",
    "    if not os.path.exists(thuMucRa):\n",
    "        os.makedirs(thuMucRa)\n",
    "    \n",
    "    image_files = [f for f in os.listdir(thuMucVao) if f.endswith('.jpg') or f.endswith('.png')]\n",
    "    \n",
    "    for image_file in image_files:\n",
    "        img_path = os.path.join(thuMucVao, image_file)\n",
    "        img = io.imread(img_path)\n",
    "        img = np.array(Image.fromarray(img).resize((224, 224)))  # Đảm bảo kích thước ảnh\n",
    "        \n",
    "        # Tạo ảnh tăng cường\n",
    "        augmented_images = augment_image(img)  # Gọi hàm tăng cường\n",
    "        for i, aug_img in enumerate(augmented_images):  # Duyệt qua từng ảnh đã tăng cường\n",
    "            if aug_img is not None:\n",
    "                aug_img_pil = Image.fromarray(aug_img)\n",
    "                aug_img_pil.save(os.path.join(thuMucRa, f\"{image_file.split('.')[0]}_aug_{i}.png\"))  # Lưu ảnh tăng cường\n"
   ]
  },
  {
   "cell_type": "code",
   "execution_count": 75,
   "id": "add2235b-3efa-4fda-82c4-90d237c75caa",
   "metadata": {},
   "outputs": [],
   "source": [
    "# Thư mục đầu vào và đầu ra\n",
    "ThuMucDauVao = 'D:/AnacondaPython/NCKH/TangCuongDuLieu/Original'\n",
    "ThuMucDauRa = 'D:/AnacondaPython/NCKH/TangCuongDuLieu/Augmented'\n",
    "TepCon = ['Benign', 'Early', 'Pre', 'Pro']  # Các thư mục con trong thư mục gốc\n"
   ]
  },
  {
   "cell_type": "code",
   "execution_count": 76,
   "id": "4307480e-b46a-47de-84e2-11948519d778",
   "metadata": {},
   "outputs": [
    {
     "name": "stdout",
     "output_type": "stream",
     "text": [
      "Hoàn thành tăng cường dữ liệu cho các giai đoạn bệnh.\n"
     ]
    }
   ],
   "source": [
    "# Thực hiện tăng cường cho từng thư mục con\n",
    "for sub_dir in TepCon:\n",
    "    input_path = os.path.join(ThuMucDauVao, sub_dir)\n",
    "    output_path = os.path.join(ThuMucDauRa, f\"{sub_dir}_aug\")\n",
    "    tangCuongAnh(input_path, output_path)  # Gọi hàm tăng cường\n",
    "\n",
    "print(\"Hoàn thành tăng cường dữ liệu cho các giai đoạn bệnh.\")"
   ]
  },
  {
   "cell_type": "code",
   "execution_count": 77,
   "id": "13fbcac5-b49e-4e1b-81cd-c573d3d4140e",
   "metadata": {},
   "outputs": [
    {
     "name": "stdout",
     "output_type": "stream",
     "text": [
      "{'Benign': 505, 'Benign_aug': 9576, 'Early_aug': 18715, 'Pre_aug': 18297, 'Pro_aug': 15276}\n"
     ]
    }
   ],
   "source": [
    "import os\n",
    "\n",
    "def count_images_in_subdirectories(base_dir):\n",
    "    class_counts = {}\n",
    "    for subdir in os.listdir(base_dir):\n",
    "        subdir_path = os.path.join(base_dir, subdir)\n",
    "        if os.path.isdir(subdir_path):\n",
    "            num_images = len([f for f in os.listdir(subdir_path) if f.endswith('.jpg') or f.endswith('.png')])\n",
    "            class_counts[subdir] = num_images\n",
    "    return class_counts\n",
    "\n",
    "# Đường dẫn đến thư mục chứa dữ liệu tăng cường\n",
    "thuMucDauRa = 'D:/AnacondaPython/NCKH/TangCuongDuLieu/Augmented'\n",
    "class_counts = count_images_in_subdirectories(thuMucDauRa)\n",
    "print(class_counts)\n"
   ]
  },
  {
   "cell_type": "code",
   "execution_count": null,
   "id": "80db89b2-8546-40e9-b11a-c11b789170c6",
   "metadata": {},
   "outputs": [],
   "source": []
  },
  {
   "cell_type": "code",
   "execution_count": null,
   "id": "1c89784f-bcc1-41a0-9d0d-0fff06f1a4bc",
   "metadata": {},
   "outputs": [],
   "source": []
  },
  {
   "cell_type": "code",
   "execution_count": 30,
   "id": "16c7f978-8371-4f8c-bc29-2e37843ca6fc",
   "metadata": {},
   "outputs": [],
   "source": [
    "import os\n",
    "import numpy as np\n",
    "import random\n",
    "from PIL import Image\n",
    "import cv2\n",
    "from skimage import io"
   ]
  },
  {
   "cell_type": "code",
   "execution_count": 31,
   "id": "2d7002ac-63a9-4975-a849-d6dccb5eccaa",
   "metadata": {},
   "outputs": [],
   "source": [
    "# Các kỹ thuật tăng cường ảnh\n",
    "def xoay_anh(img):\n",
    "    try:\n",
    "        angle = random.randint(0, 360)\n",
    "        height, width = img.shape[:2]\n",
    "        center = (width // 2, height // 2)\n",
    "        matrix = cv2.getRotationMatrix2D(center, angle, 1.0)\n",
    "        return cv2.warpAffine(img, matrix, (width, height))\n",
    "    except Exception as e:\n",
    "        print(f\"Lỗi trong hàm xoay_anh: {e}\")\n",
    "        return img\n"
   ]
  },
  {
   "cell_type": "code",
   "execution_count": 32,
   "id": "44a91e7e-42ae-40b3-b10f-bcab03b74b6a",
   "metadata": {},
   "outputs": [],
   "source": [
    "def lat_anh(img):\n",
    "    return cv2.flip(img, 1)  # Lật ngang\n"
   ]
  },
  {
   "cell_type": "code",
   "execution_count": 33,
   "id": "87f904e2-4fb5-4185-b72f-fed10be20d9b",
   "metadata": {},
   "outputs": [],
   "source": [
    "def dieu_chinh_do_sang(img):\n",
    "    factor = random.uniform(0.5, 1.5)  # Thay đổi độ sáng\n",
    "    return cv2.convertScaleAbs(img, alpha=factor, beta=0)"
   ]
  },
  {
   "cell_type": "code",
   "execution_count": 34,
   "id": "0c56d729-fb06-49d6-8de0-fe8d02ea5c05",
   "metadata": {},
   "outputs": [],
   "source": [
    "def dieu_chinh_do_tuong_phan(img):\n",
    "    factor = random.uniform(0.5, 1.5)  # Thay đổi độ tương phản\n",
    "    return cv2.convertScaleAbs(img, alpha=factor, beta=0)\n"
   ]
  },
  {
   "cell_type": "code",
   "execution_count": 35,
   "id": "254af716-0653-43c0-add1-f1b32ee51320",
   "metadata": {},
   "outputs": [],
   "source": [
    "def phong_to(img):\n",
    "    h, w = img.shape[:2]\n",
    "    if h < 2 or w < 2:  # Kiểm tra kích thước\n",
    "        return img\n",
    "    zoomed = cv2.resize(img, None, fx=1.2, fy=1.2)  # Phóng to\n",
    "    return zoomed[h//2 - h//4:h//2 + h//4, w//2 - w//4:w//2 + w//4]"
   ]
  },
  {
   "cell_type": "code",
   "execution_count": 36,
   "id": "2c53a198-12cc-426c-8a71-5f7873a9d76d",
   "metadata": {},
   "outputs": [],
   "source": [
    "def thu_nho(img):\n",
    "    h, w = img.shape[:2]\n",
    "    return cv2.resize(img, (w//2, h//2))  # Thu nhỏ"
   ]
  },
  {
   "cell_type": "code",
   "execution_count": 37,
   "id": "40714be7-b3e5-4797-9e16-7e8028fc0564",
   "metadata": {},
   "outputs": [],
   "source": [
    "def lam_mo(img):\n",
    "    return cv2.GaussianBlur(img, (5, 5), 0)  # Làm mờ"
   ]
  },
  {
   "cell_type": "code",
   "execution_count": 38,
   "id": "4334ad93-962d-4d86-978d-b704fe9d7bec",
   "metadata": {},
   "outputs": [],
   "source": [
    "def tang_cuong_do_net(img):\n",
    "    kernel = np.array([[0, -1, 0],\n",
    "                       [-1, 5, -1],\n",
    "                       [0, -1, 0]])\n",
    "    return cv2.filter2D(img, -1, kernel)  # Tăng cường độ nét"
   ]
  },
  {
   "cell_type": "code",
   "execution_count": 39,
   "id": "22cb8c88-ed8c-4278-8876-60836a91f60d",
   "metadata": {},
   "outputs": [],
   "source": [
    "def noi_ti_muoi_vang(img):\n",
    "    s_vs_p = 0.5\n",
    "    amount = 0.04\n",
    "    out = np.copy(img)\n",
    "    \n",
    "    # Tiếng muối\n",
    "    num_salt = np.ceil(amount * img.size * s_vs_p)\n",
    "    coords = [np.random.randint(0, i - 1, int(num_salt)) for i in img.shape]\n",
    "    out[coords] = 1\n",
    "\n",
    "    # Tiếng tiêu\n",
    "    num_pepper = np.ceil(amount * img.size * (1. - s_vs_p))\n",
    "    coords = [np.random.randint(0, i - 1, int(num_pepper)) for i in img.shape]\n",
    "    out[coords] = 0\n",
    "    return out"
   ]
  },
  {
   "cell_type": "code",
   "execution_count": 40,
   "id": "72cf2370-0b6f-4a44-9f69-b2b91e7ab562",
   "metadata": {},
   "outputs": [],
   "source": [
    "def cat_ngau_nhien(img):\n",
    "    h, w = img.shape[:2]\n",
    "    x = random.randint(0, w // 4)\n",
    "    y = random.randint(0, h // 4)\n",
    "    return img[y:y + h // 2, x:x + w // 2]  # Cắt ngẫu nhiên"
   ]
  },
  {
   "cell_type": "code",
   "execution_count": 41,
   "id": "92352a24-ed2e-48fe-96d8-039dbf9b2317",
   "metadata": {},
   "outputs": [],
   "source": [
    "def bien_dang_perspective(img):\n",
    "    h, w = img.shape[:2]\n",
    "    pts1 = np.float32([[0, 0], [w, 0], [0, h], [w, h]])\n",
    "    pts2 = np.float32([[random.randint(0, w//4), random.randint(0, h//4)],\n",
    "                       [random.randint(w - w//4, w), random.randint(0, h//4)],\n",
    "                       [random.randint(0, w//4), random.randint(h - h//4, h)],\n",
    "                       [random.randint(w - w//4, w), random.randint(h - h//4, h)]])\n",
    "    matrix = cv2.getPerspectiveTransform(pts1, pts2)\n",
    "    return cv2.warpPerspective(img, matrix, (w, h))"
   ]
  },
  {
   "cell_type": "code",
   "execution_count": 42,
   "id": "7d555d50-6aeb-4407-9b8b-163cd81bc9fe",
   "metadata": {},
   "outputs": [],
   "source": [
    "def lat_doc(img):\n",
    "    return cv2.flip(img, 0)  # Lật dọc\n"
   ]
  },
  {
   "cell_type": "code",
   "execution_count": 43,
   "id": "1469a1da-a704-4420-85d7-f3e4473d23b0",
   "metadata": {},
   "outputs": [],
   "source": [
    "def lat_ngang(img):\n",
    "    return cv2.flip(img, 1)  # Lật ngang\n"
   ]
  },
  {
   "cell_type": "code",
   "execution_count": 44,
   "id": "dc5527b5-eb88-4368-a446-bb4f3c86776a",
   "metadata": {},
   "outputs": [],
   "source": [
    "def rung_dieu_chinh_mau(img):\n",
    "    brightness = random.uniform(0.5, 1.5)\n",
    "    contrast = random.uniform(0.5, 1.5)\n",
    "    img = cv2.convertScaleAbs(img, alpha=contrast, beta=0)\n",
    "    return cv2.convertScaleAbs(img, alpha=brightness, beta=0)"
   ]
  },
  {
   "cell_type": "code",
   "execution_count": 45,
   "id": "c532b39d-ad43-4084-8df3-b6f3a0f6fb74",
   "metadata": {},
   "outputs": [],
   "source": [
    "def anh_xam(img):\n",
    "    return cv2.cvtColor(img, cv2.COLOR_BGR2GRAY)  # Chuyển sang ảnh xám"
   ]
  },
  {
   "cell_type": "code",
   "execution_count": 46,
   "id": "52640c3b-147e-476f-80ad-72fd5a323ee6",
   "metadata": {},
   "outputs": [],
   "source": [
    "def bien_dang_affine(img):\n",
    "    rows, cols, _ = img.shape\n",
    "    M = np.float32([[1, 0, 30], [0, 1, 10]])  # Dịch chuyển\n",
    "    return cv2.warpAffine(img, M, (cols, rows))"
   ]
  },
  {
   "cell_type": "code",
   "execution_count": 47,
   "id": "e6e24ec1-cbd9-494d-91a5-fe69ef1f2b09",
   "metadata": {},
   "outputs": [],
   "source": [
    "def bien_dang_shear(img):\n",
    "    rows, cols, _ = img.shape\n",
    "    M = np.float32([[1, 0.5, 0], [0, 1, 0]])  # Biến dạng\n",
    "    return cv2.warpAffine(img, M, (cols, rows))"
   ]
  },
  {
   "cell_type": "code",
   "execution_count": 48,
   "id": "46fa1a29-a19f-4ff7-ba6f-f9bf06d6c201",
   "metadata": {},
   "outputs": [],
   "source": [
    "def xoa_ngau_nhien(img):\n",
    "    h, w = img.shape[:2]\n",
    "    x = random.randint(0, w // 2)\n",
    "    y = random.randint(0, h // 2)\n",
    "    img[y:y + h // 4, x:x + w // 4] = 0  # Xóa ngẫu nhiên"
   ]
  },
  {
   "cell_type": "code",
   "execution_count": 49,
   "id": "390b6db4-62fa-4772-a16d-33c17de1d38b",
   "metadata": {},
   "outputs": [],
   "source": [
    "def dao_mau(img):\n",
    "    return cv2.bitwise_not(img)  # Đảo màu"
   ]
  },
  {
   "cell_type": "code",
   "execution_count": 50,
   "id": "1c08c7ea-514b-45cc-b672-4f2217c4d58d",
   "metadata": {},
   "outputs": [],
   "source": [
    "def cat_va_thay_doi_kich_thuoc(img):\n",
    "    h, w = img.shape[:2]\n",
    "    crop_img = img[h // 4:h * 3 // 4, w // 4:w * 3 // 4]\n",
    "    return cv2.resize(crop_img, (w, h))  # Cắt và thay đổi kích thước\n"
   ]
  },
  {
   "cell_type": "code",
   "execution_count": 51,
   "id": "3d0337b4-d0fc-4b40-bb2b-a45efc729733",
   "metadata": {},
   "outputs": [],
   "source": [
    "# Hàm chính để tăng cường ảnh\n",
    "def tang_cuong_anh(img):\n",
    "    anh_tang_cuong = []\n",
    "    \n",
    "    transformations = [\n",
    "        (xoay_anh, 'xoay'), (lat_anh, 'lat'), (dieu_chinh_do_sang, 'sang'),\n",
    "        (dieu_chinh_do_tuong_phan, 'tuong'), (phong_to, 'phong'), \n",
    "        (thu_nho, 'nho'), (lam_mo, 'mo'), (tang_cuong_do_net, 'net'), \n",
    "        (noi_ti_muoi_vang, 'muoi'), (cat_ngau_nhien, 'cat'),\n",
    "        (bien_dang_perspective, 'pers'), (lat_doc, 'lat_doc'), \n",
    "        (lat_ngang, 'lat_ngang'), (rung_dieu_chinh_mau, 'rung'),\n",
    "        (anh_xam, 'xam'), (bien_dang_affine, 'affine'), \n",
    "        (bien_dang_shear, 'shear'), (dao_mau, 'dao'), \n",
    "        (cat_va_thay_doi_kich_thuoc, 'cat')\n",
    "    ]\n",
    "    \n",
    "    for i, (transform, short_name) in enumerate(transformations):\n",
    "        try:\n",
    "            aug_img = transform(img)\n",
    "            if aug_img is not None:  # Kiểm tra nếu ảnh không phải là None\n",
    "                anh_tang_cuong.append((aug_img, short_name))  # Lưu ảnh cùng với tên ngắn\n",
    "        except Exception as e:\n",
    "            print(f\"Lỗi trong hàm {transform.__name__}: {e}\")\n",
    "\n",
    "    return anh_tang_cuong"
   ]
  },
  {
   "cell_type": "code",
   "execution_count": 27,
   "id": "2246b46d-b82e-4963-948e-6345d0f7a8d7",
   "metadata": {},
   "outputs": [],
   "source": [
    "# Hàm thực hiện tăng cường và lưu ảnh đầu ra\n",
    "def tangCuongAnh(thuMucVao, thuMucRa):\n",
    "    if not os.path.exists(thuMucRa):\n",
    "        os.makedirs(thuMucRa)\n",
    "    \n",
    "    image_files = [f for f in os.listdir(thuMucVao) if f.endswith('.jpg') or f.endswith('.png')]\n",
    "    \n",
    "    for image_file in image_files:\n",
    "        img_path = os.path.join(thuMucVao, image_file)\n",
    "        img = io.imread(img_path)\n",
    "        img = np.array(Image.fromarray(img).resize((224, 224)))  # Đảm bảo kích thước ảnh\n",
    "        \n",
    "        # Tạo ảnh tăng cường\n",
    "        augmented_images = tang_cuong_anh(img)  # Gọi hàm tăng cường\n",
    "        for i, aug_img in enumerate(augmented_images):  # Duyệt qua từng ảnh đã tăng cường\n",
    "            if aug_img is not None:\n",
    "                # Tạo tên nhãn theo định dạng mong muốn\n",
    "                technique = tang_cuong_anh.__code__.co_varnames[i]  # Lấy tên kỹ thuật từ tên hàm\n",
    "                label = f\"{image_file.split('.')[0]}_{technique}_{i+1}\"  # Tạo nhãn\n",
    "                aug_img_pil = Image.fromarray(aug_img)\n",
    "                aug_img_pil.save(os.path.join(thuMucRa, f\"{label}.png\"))  # Lưu ảnh tăng cường với nhãn"
   ]
  },
  {
   "cell_type": "code",
   "execution_count": 28,
   "id": "b6bcc6a0-34a8-4f6e-854a-38566e0aa3db",
   "metadata": {},
   "outputs": [],
   "source": [
    "# Thư mục đầu vào và đầu ra\n",
    "ThuMucDauVao = 'D:/AnacondaPython/NCKH/TangCuongDuLieu/Original'\n",
    "ThuMucDauRa = 'D:/AnacondaPython/NCKH/TangCuongDuLieu/Augmented'\n",
    "TepCon = ['Benign', 'Early', 'Pre', 'Pro']  # Các thư mục con trong thư mục gốc"
   ]
  },
  {
   "cell_type": "code",
   "execution_count": 29,
   "id": "e56377a8-7f54-4a05-be03-b3d10cdcff76",
   "metadata": {},
   "outputs": [
    {
     "name": "stderr",
     "output_type": "stream",
     "text": [
      "C:\\Users\\ADMIN\\AppData\\Local\\Temp\\ipykernel_8600\\1282856577.py:20: UserWarning: D:/AnacondaPython/NCKH/TangCuongDuLieu/Augmented\\Benign\\WBC-Benign-001_muoi.png is a low contrast image\n",
      "  io.imsave(output_path, aug_img)  # Lưu ảnh tăng cường\n",
      "C:\\Users\\ADMIN\\AppData\\Local\\Temp\\ipykernel_8600\\1282856577.py:20: UserWarning: D:/AnacondaPython/NCKH/TangCuongDuLieu/Augmented\\Benign\\WBC-Benign-002_muoi.png is a low contrast image\n",
      "  io.imsave(output_path, aug_img)  # Lưu ảnh tăng cường\n",
      "C:\\Users\\ADMIN\\AppData\\Local\\Temp\\ipykernel_8600\\1282856577.py:20: UserWarning: D:/AnacondaPython/NCKH/TangCuongDuLieu/Augmented\\Benign\\WBC-Benign-003_muoi.png is a low contrast image\n",
      "  io.imsave(output_path, aug_img)  # Lưu ảnh tăng cường\n",
      "C:\\Users\\ADMIN\\AppData\\Local\\Temp\\ipykernel_8600\\1282856577.py:20: UserWarning: D:/AnacondaPython/NCKH/TangCuongDuLieu/Augmented\\Benign\\WBC-Benign-004_muoi.png is a low contrast image\n",
      "  io.imsave(output_path, aug_img)  # Lưu ảnh tăng cường\n",
      "C:\\Users\\ADMIN\\AppData\\Local\\Temp\\ipykernel_8600\\1282856577.py:20: UserWarning: D:/AnacondaPython/NCKH/TangCuongDuLieu/Augmented\\Benign\\WBC-Benign-005_muoi.png is a low contrast image\n",
      "  io.imsave(output_path, aug_img)  # Lưu ảnh tăng cường\n",
      "C:\\Users\\ADMIN\\AppData\\Local\\Temp\\ipykernel_8600\\1282856577.py:20: UserWarning: D:/AnacondaPython/NCKH/TangCuongDuLieu/Augmented\\Benign\\WBC-Benign-006_muoi.png is a low contrast image\n",
      "  io.imsave(output_path, aug_img)  # Lưu ảnh tăng cường\n",
      "C:\\Users\\ADMIN\\AppData\\Local\\Temp\\ipykernel_8600\\1282856577.py:20: UserWarning: D:/AnacondaPython/NCKH/TangCuongDuLieu/Augmented\\Benign\\WBC-Benign-007_muoi.png is a low contrast image\n",
      "  io.imsave(output_path, aug_img)  # Lưu ảnh tăng cường\n",
      "C:\\Users\\ADMIN\\AppData\\Local\\Temp\\ipykernel_8600\\1282856577.py:20: UserWarning: D:/AnacondaPython/NCKH/TangCuongDuLieu/Augmented\\Benign\\WBC-Benign-008_muoi.png is a low contrast image\n",
      "  io.imsave(output_path, aug_img)  # Lưu ảnh tăng cường\n",
      "C:\\Users\\ADMIN\\AppData\\Local\\Temp\\ipykernel_8600\\1282856577.py:20: UserWarning: D:/AnacondaPython/NCKH/TangCuongDuLieu/Augmented\\Benign\\WBC-Benign-009_muoi.png is a low contrast image\n",
      "  io.imsave(output_path, aug_img)  # Lưu ảnh tăng cường\n",
      "C:\\Users\\ADMIN\\AppData\\Local\\Temp\\ipykernel_8600\\1282856577.py:20: UserWarning: D:/AnacondaPython/NCKH/TangCuongDuLieu/Augmented\\Benign\\WBC-Benign-010_muoi.png is a low contrast image\n",
      "  io.imsave(output_path, aug_img)  # Lưu ảnh tăng cường\n",
      "C:\\Users\\ADMIN\\AppData\\Local\\Temp\\ipykernel_8600\\1282856577.py:20: UserWarning: D:/AnacondaPython/NCKH/TangCuongDuLieu/Augmented\\Benign\\WBC-Benign-011_muoi.png is a low contrast image\n",
      "  io.imsave(output_path, aug_img)  # Lưu ảnh tăng cường\n",
      "C:\\Users\\ADMIN\\AppData\\Local\\Temp\\ipykernel_8600\\1282856577.py:20: UserWarning: D:/AnacondaPython/NCKH/TangCuongDuLieu/Augmented\\Benign\\WBC-Benign-012_muoi.png is a low contrast image\n",
      "  io.imsave(output_path, aug_img)  # Lưu ảnh tăng cường\n",
      "C:\\Users\\ADMIN\\AppData\\Local\\Temp\\ipykernel_8600\\1282856577.py:20: UserWarning: D:/AnacondaPython/NCKH/TangCuongDuLieu/Augmented\\Benign\\WBC-Benign-013_muoi.png is a low contrast image\n",
      "  io.imsave(output_path, aug_img)  # Lưu ảnh tăng cường\n",
      "C:\\Users\\ADMIN\\AppData\\Local\\Temp\\ipykernel_8600\\1282856577.py:20: UserWarning: D:/AnacondaPython/NCKH/TangCuongDuLieu/Augmented\\Benign\\WBC-Benign-014_muoi.png is a low contrast image\n",
      "  io.imsave(output_path, aug_img)  # Lưu ảnh tăng cường\n",
      "C:\\Users\\ADMIN\\AppData\\Local\\Temp\\ipykernel_8600\\1282856577.py:20: UserWarning: D:/AnacondaPython/NCKH/TangCuongDuLieu/Augmented\\Benign\\WBC-Benign-015_muoi.png is a low contrast image\n",
      "  io.imsave(output_path, aug_img)  # Lưu ảnh tăng cường\n",
      "C:\\Users\\ADMIN\\AppData\\Local\\Temp\\ipykernel_8600\\1282856577.py:20: UserWarning: D:/AnacondaPython/NCKH/TangCuongDuLieu/Augmented\\Benign\\WBC-Benign-016_muoi.png is a low contrast image\n",
      "  io.imsave(output_path, aug_img)  # Lưu ảnh tăng cường\n",
      "C:\\Users\\ADMIN\\AppData\\Local\\Temp\\ipykernel_8600\\1282856577.py:20: UserWarning: D:/AnacondaPython/NCKH/TangCuongDuLieu/Augmented\\Benign\\WBC-Benign-017_muoi.png is a low contrast image\n",
      "  io.imsave(output_path, aug_img)  # Lưu ảnh tăng cường\n",
      "C:\\Users\\ADMIN\\AppData\\Local\\Temp\\ipykernel_8600\\1282856577.py:20: UserWarning: D:/AnacondaPython/NCKH/TangCuongDuLieu/Augmented\\Benign\\WBC-Benign-018_muoi.png is a low contrast image\n",
      "  io.imsave(output_path, aug_img)  # Lưu ảnh tăng cường\n",
      "C:\\Users\\ADMIN\\AppData\\Local\\Temp\\ipykernel_8600\\1282856577.py:20: UserWarning: D:/AnacondaPython/NCKH/TangCuongDuLieu/Augmented\\Benign\\WBC-Benign-019_muoi.png is a low contrast image\n",
      "  io.imsave(output_path, aug_img)  # Lưu ảnh tăng cường\n",
      "C:\\Users\\ADMIN\\AppData\\Local\\Temp\\ipykernel_8600\\1282856577.py:20: UserWarning: D:/AnacondaPython/NCKH/TangCuongDuLieu/Augmented\\Benign\\WBC-Benign-020_muoi.png is a low contrast image\n",
      "  io.imsave(output_path, aug_img)  # Lưu ảnh tăng cường\n",
      "C:\\Users\\ADMIN\\AppData\\Local\\Temp\\ipykernel_8600\\1282856577.py:20: UserWarning: D:/AnacondaPython/NCKH/TangCuongDuLieu/Augmented\\Benign\\WBC-Benign-021_muoi.png is a low contrast image\n",
      "  io.imsave(output_path, aug_img)  # Lưu ảnh tăng cường\n",
      "C:\\Users\\ADMIN\\AppData\\Local\\Temp\\ipykernel_8600\\1282856577.py:20: UserWarning: D:/AnacondaPython/NCKH/TangCuongDuLieu/Augmented\\Benign\\WBC-Benign-022_muoi.png is a low contrast image\n",
      "  io.imsave(output_path, aug_img)  # Lưu ảnh tăng cường\n",
      "C:\\Users\\ADMIN\\AppData\\Local\\Temp\\ipykernel_8600\\1282856577.py:20: UserWarning: D:/AnacondaPython/NCKH/TangCuongDuLieu/Augmented\\Benign\\WBC-Benign-023_muoi.png is a low contrast image\n",
      "  io.imsave(output_path, aug_img)  # Lưu ảnh tăng cường\n",
      "C:\\Users\\ADMIN\\AppData\\Local\\Temp\\ipykernel_8600\\1282856577.py:20: UserWarning: D:/AnacondaPython/NCKH/TangCuongDuLieu/Augmented\\Benign\\WBC-Benign-024_muoi.png is a low contrast image\n",
      "  io.imsave(output_path, aug_img)  # Lưu ảnh tăng cường\n",
      "C:\\Users\\ADMIN\\AppData\\Local\\Temp\\ipykernel_8600\\1282856577.py:20: UserWarning: D:/AnacondaPython/NCKH/TangCuongDuLieu/Augmented\\Benign\\WBC-Benign-025_muoi.png is a low contrast image\n",
      "  io.imsave(output_path, aug_img)  # Lưu ảnh tăng cường\n",
      "C:\\Users\\ADMIN\\AppData\\Local\\Temp\\ipykernel_8600\\1282856577.py:20: UserWarning: D:/AnacondaPython/NCKH/TangCuongDuLieu/Augmented\\Benign\\WBC-Benign-026_muoi.png is a low contrast image\n",
      "  io.imsave(output_path, aug_img)  # Lưu ảnh tăng cường\n",
      "C:\\Users\\ADMIN\\AppData\\Local\\Temp\\ipykernel_8600\\1282856577.py:20: UserWarning: D:/AnacondaPython/NCKH/TangCuongDuLieu/Augmented\\Benign\\WBC-Benign-027_muoi.png is a low contrast image\n",
      "  io.imsave(output_path, aug_img)  # Lưu ảnh tăng cường\n",
      "C:\\Users\\ADMIN\\AppData\\Local\\Temp\\ipykernel_8600\\1282856577.py:20: UserWarning: D:/AnacondaPython/NCKH/TangCuongDuLieu/Augmented\\Benign\\WBC-Benign-028_muoi.png is a low contrast image\n",
      "  io.imsave(output_path, aug_img)  # Lưu ảnh tăng cường\n"
     ]
    },
    {
     "ename": "KeyboardInterrupt",
     "evalue": "",
     "output_type": "error",
     "traceback": [
      "\u001b[1;31m---------------------------------------------------------------------------\u001b[0m",
      "\u001b[1;31mKeyboardInterrupt\u001b[0m                         Traceback (most recent call last)",
      "Cell \u001b[1;32mIn[29], line 5\u001b[0m\n\u001b[0;32m      3\u001b[0m     path_input \u001b[38;5;241m=\u001b[39m os\u001b[38;5;241m.\u001b[39mpath\u001b[38;5;241m.\u001b[39mjoin(ThuMucDauVao, tep)\n\u001b[0;32m      4\u001b[0m     path_output \u001b[38;5;241m=\u001b[39m os\u001b[38;5;241m.\u001b[39mpath\u001b[38;5;241m.\u001b[39mjoin(ThuMucDauRa, tep)\n\u001b[1;32m----> 5\u001b[0m     tangCuongAnh(path_input, path_output)  \u001b[38;5;66;03m# Gọi hàm tăng cường ảnh\u001b[39;00m\n\u001b[0;32m      7\u001b[0m \u001b[38;5;28mprint\u001b[39m(\u001b[38;5;124m\"\u001b[39m\u001b[38;5;124mHoàn thành tăng cường dữ liệu cho các giai đoạn bệnh.\u001b[39m\u001b[38;5;124m\"\u001b[39m)\n",
      "Cell \u001b[1;32mIn[27], line 20\u001b[0m, in \u001b[0;36mtangCuongAnh\u001b[1;34m(thuMucVao, thuMucRa)\u001b[0m\n\u001b[0;32m     18\u001b[0m label \u001b[38;5;241m=\u001b[39m \u001b[38;5;124mf\u001b[39m\u001b[38;5;124m\"\u001b[39m\u001b[38;5;132;01m{\u001b[39;00mimage_file\u001b[38;5;241m.\u001b[39msplit(\u001b[38;5;124m'\u001b[39m\u001b[38;5;124m.\u001b[39m\u001b[38;5;124m'\u001b[39m)[\u001b[38;5;241m0\u001b[39m]\u001b[38;5;132;01m}\u001b[39;00m\u001b[38;5;124m_\u001b[39m\u001b[38;5;132;01m{\u001b[39;00mshort_name\u001b[38;5;132;01m}\u001b[39;00m\u001b[38;5;124m\"\u001b[39m  \u001b[38;5;66;03m# Tạo nhãn ngắn gọn\u001b[39;00m\n\u001b[0;32m     19\u001b[0m output_path \u001b[38;5;241m=\u001b[39m os\u001b[38;5;241m.\u001b[39mpath\u001b[38;5;241m.\u001b[39mjoin(thuMucRa, \u001b[38;5;124mf\u001b[39m\u001b[38;5;124m\"\u001b[39m\u001b[38;5;132;01m{\u001b[39;00mlabel\u001b[38;5;132;01m}\u001b[39;00m\u001b[38;5;124m.png\u001b[39m\u001b[38;5;124m\"\u001b[39m)\n\u001b[1;32m---> 20\u001b[0m io\u001b[38;5;241m.\u001b[39mimsave(output_path, aug_img)\n",
      "File \u001b[1;32mD:\\Users\\ADMIN\\anaconda3\\Lib\\site-packages\\skimage\\io\\_io.py:141\u001b[0m, in \u001b[0;36mimsave\u001b[1;34m(fname, arr, plugin, check_contrast, **plugin_args)\u001b[0m\n\u001b[0;32m    137\u001b[0m     warn(\u001b[38;5;124mf\u001b[39m\u001b[38;5;124m'\u001b[39m\u001b[38;5;132;01m{\u001b[39;00mfname\u001b[38;5;132;01m}\u001b[39;00m\u001b[38;5;124m is a boolean image: setting True to 255 and False to 0. \u001b[39m\u001b[38;5;124m'\u001b[39m\n\u001b[0;32m    138\u001b[0m          \u001b[38;5;124m'\u001b[39m\u001b[38;5;124mTo silence this warning, please convert the image using \u001b[39m\u001b[38;5;124m'\u001b[39m\n\u001b[0;32m    139\u001b[0m          \u001b[38;5;124m'\u001b[39m\u001b[38;5;124mimg_as_ubyte.\u001b[39m\u001b[38;5;124m'\u001b[39m, stacklevel\u001b[38;5;241m=\u001b[39m\u001b[38;5;241m2\u001b[39m)\n\u001b[0;32m    140\u001b[0m     arr \u001b[38;5;241m=\u001b[39m arr\u001b[38;5;241m.\u001b[39mastype(\u001b[38;5;124m'\u001b[39m\u001b[38;5;124muint8\u001b[39m\u001b[38;5;124m'\u001b[39m) \u001b[38;5;241m*\u001b[39m \u001b[38;5;241m255\u001b[39m\n\u001b[1;32m--> 141\u001b[0m \u001b[38;5;28;01mif\u001b[39;00m check_contrast \u001b[38;5;129;01mand\u001b[39;00m is_low_contrast(arr):\n\u001b[0;32m    142\u001b[0m     warn(\u001b[38;5;124mf\u001b[39m\u001b[38;5;124m'\u001b[39m\u001b[38;5;132;01m{\u001b[39;00mfname\u001b[38;5;132;01m}\u001b[39;00m\u001b[38;5;124m is a low contrast image\u001b[39m\u001b[38;5;124m'\u001b[39m)\n\u001b[0;32m    143\u001b[0m \u001b[38;5;28;01mreturn\u001b[39;00m call_plugin(\u001b[38;5;124m'\u001b[39m\u001b[38;5;124mimsave\u001b[39m\u001b[38;5;124m'\u001b[39m, fname, arr, plugin\u001b[38;5;241m=\u001b[39mplugin, \u001b[38;5;241m*\u001b[39m\u001b[38;5;241m*\u001b[39mplugin_args)\n",
      "File \u001b[1;32mD:\\Users\\ADMIN\\anaconda3\\Lib\\site-packages\\skimage\\exposure\\exposure.py:833\u001b[0m, in \u001b[0;36mis_low_contrast\u001b[1;34m(image, fraction_threshold, lower_percentile, upper_percentile, method)\u001b[0m\n\u001b[0;32m    831\u001b[0m         image \u001b[38;5;241m=\u001b[39m rgba2rgb(image)\n\u001b[0;32m    832\u001b[0m     \u001b[38;5;28;01mif\u001b[39;00m image\u001b[38;5;241m.\u001b[39mshape[\u001b[38;5;241m2\u001b[39m] \u001b[38;5;241m==\u001b[39m \u001b[38;5;241m3\u001b[39m:\n\u001b[1;32m--> 833\u001b[0m         image \u001b[38;5;241m=\u001b[39m rgb2gray(image)\n\u001b[0;32m    835\u001b[0m dlimits \u001b[38;5;241m=\u001b[39m dtype_limits(image, clip_negative\u001b[38;5;241m=\u001b[39m\u001b[38;5;28;01mFalse\u001b[39;00m)\n\u001b[0;32m    836\u001b[0m limits \u001b[38;5;241m=\u001b[39m np\u001b[38;5;241m.\u001b[39mpercentile(image, [lower_percentile, upper_percentile])\n",
      "File \u001b[1;32mD:\\Users\\ADMIN\\anaconda3\\Lib\\site-packages\\skimage\\_shared\\utils.py:316\u001b[0m, in \u001b[0;36mchannel_as_last_axis.__call__.<locals>.fixed_func\u001b[1;34m(*args, **kwargs)\u001b[0m\n\u001b[0;32m    313\u001b[0m channel_axis \u001b[38;5;241m=\u001b[39m kwargs\u001b[38;5;241m.\u001b[39mget(\u001b[38;5;124m'\u001b[39m\u001b[38;5;124mchannel_axis\u001b[39m\u001b[38;5;124m'\u001b[39m, \u001b[38;5;28;01mNone\u001b[39;00m)\n\u001b[0;32m    315\u001b[0m \u001b[38;5;28;01mif\u001b[39;00m channel_axis \u001b[38;5;129;01mis\u001b[39;00m \u001b[38;5;28;01mNone\u001b[39;00m:\n\u001b[1;32m--> 316\u001b[0m     \u001b[38;5;28;01mreturn\u001b[39;00m func(\u001b[38;5;241m*\u001b[39margs, \u001b[38;5;241m*\u001b[39m\u001b[38;5;241m*\u001b[39mkwargs)\n\u001b[0;32m    318\u001b[0m \u001b[38;5;66;03m# TODO: convert scalars to a tuple in anticipation of eventually\u001b[39;00m\n\u001b[0;32m    319\u001b[0m \u001b[38;5;66;03m#       supporting a tuple of channel axes. Right now, only an\u001b[39;00m\n\u001b[0;32m    320\u001b[0m \u001b[38;5;66;03m#       integer or a single-element tuple is supported, though.\u001b[39;00m\n\u001b[0;32m    321\u001b[0m \u001b[38;5;28;01mif\u001b[39;00m np\u001b[38;5;241m.\u001b[39misscalar(channel_axis):\n",
      "\u001b[1;31mKeyboardInterrupt\u001b[0m: "
     ]
    }
   ],
   "source": [
    "# Thực hiện tăng cường cho tất cả các thư mục con\n",
    "for tep in TepCon:\n",
    "    path_input = os.path.join(ThuMucDauVao, tep)\n",
    "    path_output = os.path.join(ThuMucDauRa, tep)\n",
    "    tangCuongAnh(path_input, path_output)  # Gọi hàm tăng cường ảnh\n",
    "\n",
    "print(\"Hoàn thành tăng cường dữ liệu cho các giai đoạn bệnh.\")"
   ]
  },
  {
   "cell_type": "code",
   "execution_count": null,
   "id": "ca9a4132-7b35-4ee9-93b5-3f812bf65e96",
   "metadata": {},
   "outputs": [],
   "source": []
  }
 ],
 "metadata": {
  "kernelspec": {
   "display_name": "Python 3 (ipykernel)",
   "language": "python",
   "name": "python3"
  },
  "language_info": {
   "codemirror_mode": {
    "name": "ipython",
    "version": 3
   },
   "file_extension": ".py",
   "mimetype": "text/x-python",
   "name": "python",
   "nbconvert_exporter": "python",
   "pygments_lexer": "ipython3",
   "version": "3.11.5"
  }
 },
 "nbformat": 4,
 "nbformat_minor": 5
}
